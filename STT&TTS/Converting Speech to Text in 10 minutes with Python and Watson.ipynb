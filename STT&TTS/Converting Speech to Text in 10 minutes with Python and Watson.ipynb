{
 "cells": [
  {
   "cell_type": "markdown",
   "id": "dd283f40",
   "metadata": {},
   "source": [
    "# What's Covered\n",
    "\n",
    "1. Setting upp the Watson STT Service\n",
    "\n",
    "2. Converting Speech to Text\n",
    "\n",
    "3. Changing lanuage models\n",
    "\n",
    "# How we're doing it\n",
    "\n",
    "1. Access saved audio file using Python\n",
    "\n",
    "2. Convert speech to text using Watson\n",
    "\n",
    "3. Output results to text files for usage"
   ]
  },
  {
   "cell_type": "markdown",
   "id": "7be4cbc2",
   "metadata": {},
   "source": [
    "## 0. Install and Import Dependencies"
   ]
  },
  {
   "cell_type": "code",
   "execution_count": 1,
   "id": "bcc86d94",
   "metadata": {
    "ExecuteTime": {
     "end_time": "2021-07-01T09:21:52.429568Z",
     "start_time": "2021-07-01T09:21:52.417567Z"
    }
   },
   "outputs": [],
   "source": [
    "# pip install ibm_watson"
   ]
  },
  {
   "cell_type": "code",
   "execution_count": 4,
   "id": "33787c1f",
   "metadata": {
    "ExecuteTime": {
     "end_time": "2021-07-01T09:24:43.665764Z",
     "start_time": "2021-07-01T09:24:43.652761Z"
    }
   },
   "outputs": [],
   "source": [
    "from ibm_watson import SpeechToTextV1\n",
    "from ibm_cloud_sdk_core.authenticators import IAMAuthenticator"
   ]
  },
  {
   "cell_type": "markdown",
   "id": "77354e1b",
   "metadata": {},
   "source": [
    "## 1. Setup STT Service"
   ]
  },
  {
   "cell_type": "code",
   "execution_count": 5,
   "id": "710807a3",
   "metadata": {
    "ExecuteTime": {
     "end_time": "2021-07-01T09:25:50.168933Z",
     "start_time": "2021-07-01T09:25:50.166932Z"
    }
   },
   "outputs": [],
   "source": [
    "apikey = '#################################################'\n",
    "url = '#######################################################'"
   ]
  },
  {
   "cell_type": "code",
   "execution_count": 6,
   "id": "13b16b15",
   "metadata": {
    "ExecuteTime": {
     "end_time": "2021-07-01T09:26:24.755244Z",
     "start_time": "2021-07-01T09:26:24.741241Z"
    }
   },
   "outputs": [],
   "source": [
    "# Setup Service\n",
    "authenticator = IAMAuthenticator(apikey)\n",
    "stt = SpeechToTextV1(authenticator = authenticator)\n",
    "stt.set_service_url(url)"
   ]
  },
  {
   "cell_type": "markdown",
   "id": "3a17fa77",
   "metadata": {},
   "source": [
    "## 2. Open Audio Source and Convert"
   ]
  },
  {
   "cell_type": "code",
   "execution_count": 7,
   "id": "44aad132",
   "metadata": {
    "ExecuteTime": {
     "end_time": "2021-07-01T09:30:18.652321Z",
     "start_time": "2021-07-01T09:29:32.751371Z"
    }
   },
   "outputs": [],
   "source": [
    "# Perform conversion\n",
    "with open('TX048clip.mp3', 'rb') as f:\n",
    "    res = stt.recognize(audio=f, content_type = 'audio/mp3', model='en-US_NarrowbandModel', continuous=True).get_result()"
   ]
  },
  {
   "cell_type": "code",
   "execution_count": 8,
   "id": "a6b0be5f",
   "metadata": {
    "ExecuteTime": {
     "end_time": "2021-07-01T09:30:26.468835Z",
     "start_time": "2021-07-01T09:30:26.446831Z"
    }
   },
   "outputs": [
    {
     "data": {
      "text/plain": [
       "{'result_index': 0,\n",
       " 'results': [{'final': True,\n",
       "   'alternatives': [{'transcript': 'say this is center customs ',\n",
       "     'confidence': 0.72}]},\n",
       "  {'final': True,\n",
       "   'alternatives': [{'transcript': \"and they'll \", 'confidence': 0.56}]},\n",
       "  {'final': True,\n",
       "   'alternatives': [{'transcript': 'the next step is to prepare a Mexican customs entry ',\n",
       "     'confidence': 0.86}]},\n",
       "  {'final': True,\n",
       "   'alternatives': [{'transcript': \"%HESITATION Mexico call the basement yes it's ready an appraisal sheet it's \",\n",
       "     'confidence': 0.61}]},\n",
       "  {'final': True,\n",
       "   'alternatives': [{'transcript': \"it's a break down of the sheet you're always the same information that's right but but here you give him all the information for example well let's see my problem right here you go all the information on \",\n",
       "     'confidence': 0.79}]},\n",
       "  {'final': True,\n",
       "   'alternatives': [{'transcript': 'what what the invoice contains ',\n",
       "     'confidence': 0.82}]},\n",
       "  {'final': True,\n",
       "   'alternatives': [{'transcript': \"what the invoice I'm saying this one so \",\n",
       "     'confidence': 0.77}]},\n",
       "  {'final': True,\n",
       "   'alternatives': [{'transcript': 'what the material in its office if you hear a word Dr payments %HESITATION some bonding apartment going over there and on the free throw ',\n",
       "     'confidence': 0.64}]},\n",
       "  {'final': True,\n",
       "   'alternatives': [{'transcript': \"it doesn't work for \",\n",
       "     'confidence': 0.5}]},\n",
       "  {'final': True,\n",
       "   'alternatives': [{'transcript': '%HESITATION made the invoice are the states is came from Saint Louis Missouri ',\n",
       "     'confidence': 0.79}]},\n",
       "  {'final': True,\n",
       "   'alternatives': [{'transcript': \"I'm afraid once and on the reverse of this for for this thing \",\n",
       "     'confidence': 0.6}]},\n",
       "  {'final': True,\n",
       "   'alternatives': [{'transcript': \"but the everything has to be marked with the words of this identification number is that traffic number I spoke to you didn't want to \",\n",
       "     'confidence': 0.81}]},\n",
       "  {'final': True,\n",
       "   'alternatives': [{'transcript': 'number of boxes what they contain ',\n",
       "     'confidence': 0.71}]},\n",
       "  {'final': True,\n",
       "   'alternatives': [{'transcript': 'the terrace duty the terrace number we have a lower rate ',\n",
       "     'confidence': 0.44}]},\n",
       "  {'final': True,\n",
       "   'alternatives': [{'transcript': 'and what the actual duties would be paid for example who would be nine hundred ice expressions and seventy three cents as you can see this is a form that has already been approved by the appraiser ',\n",
       "     'confidence': 0.86}]},\n",
       "  {'final': True,\n",
       "   'alternatives': [{'transcript': 'your Frasier called reached us ',\n",
       "     'confidence': 0.37}]},\n",
       "  {'final': True,\n",
       "   'alternatives': [{'transcript': 'three different movies we have no ',\n",
       "     'confidence': 0.63}]}]}"
      ]
     },
     "execution_count": 8,
     "metadata": {},
     "output_type": "execute_result"
    }
   ],
   "source": [
    "res"
   ]
  },
  {
   "cell_type": "code",
   "execution_count": 9,
   "id": "a5b2b2f1",
   "metadata": {
    "ExecuteTime": {
     "end_time": "2021-07-01T09:30:55.128431Z",
     "start_time": "2021-07-01T09:30:55.116429Z"
    }
   },
   "outputs": [
    {
     "data": {
      "text/plain": [
       "'say this is center customs '"
      ]
     },
     "execution_count": 9,
     "metadata": {},
     "output_type": "execute_result"
    }
   ],
   "source": [
    "text = res['results'][0]['alternatives'][0]['transcript']\n",
    "text"
   ]
  },
  {
   "cell_type": "code",
   "execution_count": 10,
   "id": "ae69d475",
   "metadata": {
    "ExecuteTime": {
     "end_time": "2021-07-01T09:32:03.099833Z",
     "start_time": "2021-07-01T09:32:03.084830Z"
    }
   },
   "outputs": [
    {
     "data": {
      "text/plain": [
       "0.72"
      ]
     },
     "execution_count": 10,
     "metadata": {},
     "output_type": "execute_result"
    }
   ],
   "source": [
    "confidence = res['results'][0]['alternatives'][0]['confidence']\n",
    "confidence"
   ]
  },
  {
   "cell_type": "code",
   "execution_count": 11,
   "id": "16831c48",
   "metadata": {
    "ExecuteTime": {
     "end_time": "2021-07-01T09:32:40.741254Z",
     "start_time": "2021-07-01T09:32:40.733749Z"
    }
   },
   "outputs": [],
   "source": [
    "with open('output.txt', 'w') as out:\n",
    "    out.writelines(text)"
   ]
  },
  {
   "cell_type": "markdown",
   "id": "274d9120",
   "metadata": {},
   "source": [
    "## 3. Change Language Models"
   ]
  },
  {
   "cell_type": "code",
   "execution_count": 12,
   "id": "f6992a19",
   "metadata": {
    "ExecuteTime": {
     "end_time": "2021-07-01T09:34:49.426954Z",
     "start_time": "2021-07-01T09:33:57.063269Z"
    }
   },
   "outputs": [],
   "source": [
    "# Perform conversion\n",
    "with open('TX048clip.mp3', 'rb') as f:\n",
    "    res = stt.recognize(audio=f, content_type = 'audio/mp3', model='en-AU_NarrowbandModel', continuous=True).get_result()"
   ]
  },
  {
   "cell_type": "code",
   "execution_count": 13,
   "id": "57800319",
   "metadata": {
    "ExecuteTime": {
     "end_time": "2021-07-01T09:34:49.443008Z",
     "start_time": "2021-07-01T09:34:49.427946Z"
    }
   },
   "outputs": [
    {
     "data": {
      "text/plain": [
       "{'result_index': 0,\n",
       " 'results': [{'final': True,\n",
       "   'alternatives': [{'transcript': 'see this is centre customers ',\n",
       "     'confidence': 0.74}]},\n",
       "  {'final': True,\n",
       "   'alternatives': [{'transcript': 'end of ', 'confidence': 0.76}]},\n",
       "  {'final': True,\n",
       "   'alternatives': [{'transcript': 'the next step is to prepare any Mexican customs entry ',\n",
       "     'confidence': 0.7}]},\n",
       "  {'final': True,\n",
       "   'alternatives': [{'transcript': \"magical quality betting missus it's ready and appreciate its \",\n",
       "     'confidence': 0.67}]},\n",
       "  {'final': True,\n",
       "   'alternatives': [{'transcript': \"it's a breakdown of the sheet you always the same information X. rate that would cure you good morning the information for example it into my problem record \",\n",
       "     'confidence': 0.67}]},\n",
       "  {'final': True,\n",
       "   'alternatives': [{'transcript': 'what the invoice contains ',\n",
       "     'confidence': 0.82}]},\n",
       "  {'final': True,\n",
       "   'alternatives': [{'transcript': 'but the material itself physically care of regardless of the some bonding footman going over there and almost a frequency stuff ',\n",
       "     'confidence': 0.56}]},\n",
       "  {'final': True,\n",
       "   'alternatives': [{'transcript': \"it doesn't put forth \",\n",
       "     'confidence': 0.68}]},\n",
       "  {'final': True,\n",
       "   'alternatives': [{'transcript': \"full made the invoice out of the state it's going from St Louis Missouri \",\n",
       "     'confidence': 0.7}]},\n",
       "  {'final': True,\n",
       "   'alternatives': [{'transcript': 'how much of frequent ',\n",
       "     'confidence': 0.42}]},\n",
       "  {'final': True,\n",
       "   'alternatives': [{'transcript': 'on the reverse of this thread for this thing ',\n",
       "     'confidence': 0.61}]},\n",
       "  {'final': True,\n",
       "   'alternatives': [{'transcript': \"but the everything has to be more expensive than the warranty doesn't occasion this identification number is that traffic number I spoke to the final \",\n",
       "     'confidence': 0.8}]},\n",
       "  {'final': True,\n",
       "   'alternatives': [{'transcript': 'number of boxes spot the complaint ',\n",
       "     'confidence': 0.71}]},\n",
       "  {'final': True,\n",
       "   'alternatives': [{'transcript': 'the charity the terrace number the ad valorem rate ',\n",
       "     'confidence': 0.78}]},\n",
       "  {'final': True,\n",
       "   'alternatives': [{'transcript': 'and what the actual duties would be paid for example who would be nine hundred eighty specials and seventy three cents as you can see this is a form that has already been approved by the appraiser ',\n",
       "     'confidence': 0.78}]},\n",
       "  {'final': True,\n",
       "   'alternatives': [{'transcript': 'is appreciate your call this bus ',\n",
       "     'confidence': 0.43}]},\n",
       "  {'final': True,\n",
       "   'alternatives': [{'transcript': 'three different solutions we have no idea what happened ',\n",
       "     'confidence': 0.63}]}]}"
      ]
     },
     "execution_count": 13,
     "metadata": {},
     "output_type": "execute_result"
    }
   ],
   "source": [
    "res"
   ]
  }
 ],
 "metadata": {
  "kernelspec": {
   "display_name": "Python 3",
   "language": "python",
   "name": "python3"
  },
  "language_info": {
   "codemirror_mode": {
    "name": "ipython",
    "version": 3
   },
   "file_extension": ".py",
   "mimetype": "text/x-python",
   "name": "python",
   "nbconvert_exporter": "python",
   "pygments_lexer": "ipython3",
   "version": "3.7.10"
  }
 },
 "nbformat": 4,
 "nbformat_minor": 5
}
