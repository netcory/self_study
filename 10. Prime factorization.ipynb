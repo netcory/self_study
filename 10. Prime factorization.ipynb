{
 "cells": [
  {
   "cell_type": "markdown",
   "id": "da0d4235",
   "metadata": {},
   "source": [
    "# 문제\n",
    "#### 정수 N이 주어졌을 때, 소인수분해하는 프로그램을 작성하시오.\n",
    "\n",
    "# 입력\n",
    "#### 첫째 줄에 정수 N(1 <= N <= 10,000,000)이 주어진다.\n",
    "\n",
    "# 출력\n",
    "#### N의 소인수분해 결과를 한 줄에 하나씩 오름차순으로 출력한다. N이 1인 경우 아무것도 출력하지 않는다.\n",
    "\n",
    "# ex)\n",
    "#### 72 입력\n",
    "#### 2\n",
    "#### 2\n",
    "#### 2\n",
    "#### 3\n",
    "#### 3"
   ]
  },
  {
   "cell_type": "code",
   "execution_count": 11,
   "id": "5ff16513",
   "metadata": {},
   "outputs": [
    {
     "name": "stdout",
     "output_type": "stream",
     "text": [
      "정수를 입력하세요10000000\n",
      "2\n",
      "2\n",
      "2\n",
      "2\n",
      "2\n",
      "2\n",
      "2\n",
      "5\n",
      "5\n",
      "5\n",
      "5\n",
      "5\n",
      "5\n",
      "5\n"
     ]
    }
   ],
   "source": [
    "n = int(input(\"정수를 입력하세요\"))\n",
    "\n",
    "for i in range(2, n):\n",
    "    while n % i == 0:\n",
    "        print(i)\n",
    "        n /= i"
   ]
  },
  {
   "cell_type": "code",
   "execution_count": null,
   "id": "c348e210",
   "metadata": {},
   "outputs": [],
   "source": []
  }
 ],
 "metadata": {
  "kernelspec": {
   "display_name": "Python 3",
   "language": "python",
   "name": "python3"
  },
  "language_info": {
   "codemirror_mode": {
    "name": "ipython",
    "version": 3
   },
   "file_extension": ".py",
   "mimetype": "text/x-python",
   "name": "python",
   "nbconvert_exporter": "python",
   "pygments_lexer": "ipython3",
   "version": "3.8.8"
  }
 },
 "nbformat": 4,
 "nbformat_minor": 5
}
