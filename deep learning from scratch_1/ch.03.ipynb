{
 "cells": [
  {
   "cell_type": "markdown",
   "id": "53d1f2cf",
   "metadata": {},
   "source": [
    "<img src = 'https://www.hanbit.co.kr/data/books/B8475831198_l.jpg'>"
   ]
  },
  {
   "cell_type": "markdown",
   "id": "9dca9d12",
   "metadata": {},
   "source": [
    "# 신경망"
   ]
  },
  {
   "cell_type": "markdown",
   "id": "f22587dc",
   "metadata": {},
   "source": [
    "퍼셉트론 관련한 좋은 소식: 퍼셉트론으로 복잡한 함수도 표현 가능\n",
    "퍼셉트론 관련한 나쁜 소식: 가중치를 설정하는 작업은 사람이 수동으로 한다.\n",
    "\n",
    "신경망은 이 나쁜 소식을 해결해준다.\n",
    "신경망의 중요한 성질은 가중치 매개변수의 적절한 값을 데이터로부터 자동으로 학습하는 능력."
   ]
  },
  {
   "cell_type": "markdown",
   "id": "738d2296",
   "metadata": {},
   "source": [
    "신경망의 예를 그림으로 나타내면 다음과 같다.\n",
    "\n",
    "<img src = 'https://mblogthumb-phinf.pstatic.net/MjAxNzA2MTZfMzQg/MDAxNDk3NTc4MDc4NTU4.C0svtndk_igat9FquGev3il4HWs2mEKarZPuzI0kgMcg.75f89hjNck6eLQNZWQ4-QZiWNnArNKnuEXvxoL3n0aAg.PNG.samsjang/%EC%BA%A1%EC%B2%98.PNG?type=w2'>"
   ]
  },
  {
   "cell_type": "markdown",
   "id": "b461279e",
   "metadata": {},
   "source": [
    "입력층에서 출력층 방향으로 차례대로 0층, 1층, 2층.\n",
    "\n",
    "실제로 가중치를 갖는 층은 2개 뿐이기 때문에 2층 신경망이라고 한다.\n",
    "\n",
    "문헌에 따라서는 3층 신경망이라고 하는 경우도 있으니 주의."
   ]
  },
  {
   "cell_type": "markdown",
   "id": "0a9648a4",
   "metadata": {},
   "source": [
    "편향을 명시한 퍼셉트론 구조를 그리면 다음과 같다.\n",
    "<img src = 'data:image/png;base64,iVBORw0KGgoAAAANSUhEUgAAAMAAAAEGCAMAAAAExGooAAAAgVBMVEX////m5ub7+/vDw8MAAADp6enGxsa+vr7BwcG5ubm2trb19fXe3t74+Pjv7+/8/PzU1NTNzc3c3NzMzMyysrJvb2+srKyjo6NiYmJ6enqYmJgpKSmNjY2Hh4dSUlI8PDxgYGBJSUkiIiJ1dXUSEhIaGhpDQ0M3NzeBgYFQUFAtLS24Y8CKAAAMHUlEQVR4nO1di3arKhCFKKCCCJikaU4fp+15//8HXk3S1CSAQE3Bu7LXOo8+jHtgGGBmGAC44YbrYYGUzIosywosGW9i0/EEVUWJhYJ7KInLTNWxSbkDFkRChOAHEGKyzFBsYm6AJWZD8h8yZGQGInCCoYb+XgZWFDQ2wRGIUtf6HyKoSsWmaENNWhv9nQg4S9ci0UqN8e8kEGWq9ohXVvUZqFGaA4FXDux3ErAkJaAVcxSg74MEx0GpxpkfJRBFbLoXaKWL/h8lwCI24TNA4sO/Q8ljUz5BU/rRh5CR2JxPILwUqAfCLDbpARpXCzpEGZv1AEL4dkDXBW06XeA/AhLrAoj9O6DrgiIZQ4Sd5+ATCBmb+DtsGoQsnZOKJUVmDUIcmw0sIoms6ZQwa8n3fGkWoIWxqe9hHgKqurMIAFUiCyLLEOCZTQCGY1PfobGs41BhEyCRUVwXoQKgKjb3HWgWLECZxMaMWubhEQHIIjb5Hp/ogUQEmPsYWNiskNWMprIeLc0UedcD3CxAIr6Jwsyw+pU/mec51camvocwe4TY4Y8eIhFPNRx1SeuBskR2NLVlEFhBkpjHOpAw/oms5TooGcIf4US2A91UFqRDaJmIEeqQeXimjxBCJaND3Ne126OkIB2/ROHfBaJXIJmKBNx/FFS7UJ9MZFvcNaWfBAgfZuFkIh2ln3dOHbfDqUjgHKPcYxCnzBLxUjMfS1QOsz5IIhIIy9byFIicLkOLRKZk6SrBGf8+vhCH8TmE26quvNgGNKUukQh+/WKV2ZNtdurDKk1zNxdR12bz4/eXcD4Fr8aiZbLU+tTr6mJz8/P++nwv0Uhi6QSkSpPVr88FY3mkpR4nmUEEpIrMHNKgZyks2zxaWhEqiLjIm0NQjKQt0uqE8fdn8PDycF2mZi6iLCSD6IBu9yhJKcYCSnwowSLfPi0f8ser8rSyUZhUJMMYZ6QkLXMJh/Hqw1fa5t84aF5/XY+hC2rew92Dyz/87Q951vVk/v0atK4IeJTg23P3l8zTcP964D3qBPN19/fLa1QyQTjkEVV5t95Y54n4Hr3Adi7rVc47/omssz2xc7bA+/u3uyTiNwEQybiLQiHScdkFIhl3UTDmL0GbiLMlHKm4i8KB5ziJnaCY5zQ2QCruonBonS2zQioOr2BcuovmhsWlu2hmuHAXzQ7n7qL54f8gQaon/1zB5y9BGumZnwAq57o9fkcq6YHhSCTN+hNI7OBcANLJ7wrF/N1F6eRHhSKd/KhQzN9dlEx+VDBu7qL4SCW7KBz/Awm+xtnSl6jCBSEkw1J5xIrHMZofVQ9ezcJeTQUpBOS030rVlDNJiJpua2t1F3FBsv7VHe+mf3VLCu/qWJBkF9lWNSPFZJ7ChUmChpX48tWKeFXHYqa0DtpO5io0uItUKfSNzbFzdSxeSvMGtm6nOgNda5wtyJhNBfrzhpmTIskRhvwy4y8MO3fRcHw27QhDVI3b39qBniymcTHQasGXHxLQcpRe046tx7mTKxZO5O7kJWHHgDJy8t8xe3Us7ugEdP29ESBCwLvCuvpdUGX5PW774QkmcXfSNecl2isFdPZ8Wbx8Pqz4FHlMnAhY7KqDuDdd31eGH/gFU6Zx8zDSVllvUn1mWpN3w7NckJhkY7KQyzXyjWbqq+pAX48BmSZ2RAuifDfKOlPUeGjh4c1TeTvV0vcJrtHfgIO1YqJ9SUB9k8szkIuA5mxMpm+h1n3anOp0bD0+UmiAOagv6Aa1pumhus2fun++dbPs7j92tCFr9POHmiCzftkO73jM++T17kOr0eTvOsgen3cbDLOJ2GSI7nIA3/I7AO57ZWU2e6XCFrdna2bLqQAbkMn+lTnd1K9bILegT4G1NQ8Ji/+dNXngtNqYnpP5nzvw963Zj4BfFgHqwMIOp88ZW3IM2NBzKP8NwNvf1X6oPVsEgKHbo5OiKCJ0p6sMdgjlnQX6kx/axSaADJ3P5dAOmRpyFNzQdajXne3d4SubAMHVZU66zmAOyVtnCde2EwA0c3nXq0VDjZYY3792DfDwzdS2fJAcbBqLFOSr9mFt6WTjKB5C3i2NlqY2tkC9+P3aKXdumuaGT9bGhej9j42dXOiC7r2YPrckWZd98v7KKPug7ajxU5b5fnjXDwYZQ0t7VCTbnSoyDaIdrW4m5OZDUIO2M3/KMt/Lqf4ZBkJRL0LQvZ0qUgqEbHPcy1/wZtbfoQCmHuAvr4e1zMYgAOkvWAhAlWHcluv10raNevzBLEupgQCGMbAAT4vNP/DHJkDoGOh7ICOK2lQI4PyXxcgOBdBO5yr/hbtV2cuuk6cWYEla2A9PausBmFs+fjEkrf09fte1Dr3bN9FG/1GhKxnwbt2tdljZTOCJ6MXYihD+fNROKDYr6AZbFz7ZaJ0Mfzm2KaJUH+cJXoodYVzFlPzN+uFquH4L5tF+2rViWg6yfOQM2skWJliVP1/oj5tG8Uho72zwjA4CPaw2xBGBczk6HX2BLp7gfcQAo+PP6bEQ30yHKbJBjTpkRXNuvYJKYMNJkn+CbiRh52so7rQzOUOgQ+EMQc1w2fcBXQAnOjAZEHG76AC9w3fsxRNldCPv3te60qWvIZquUGTma8z0Bfo843YBXWaCb2wC6ruMey2NmymPZRjjdlpQk7zMRxenPOJGM+JhiRpzMN7jHPaExyRruSY+h3dt6V7SVYJsusxDQare8+ScjWlPuHNLz27OS2yFA5asJbuXtk6NV48lLCkH4851JaqC0JC2keJwSZ5wWJvzanTo8dGcHDHh0TyIpTiGKtBowwiXxUvTWq8N5GTS1OFiOYh1LrDVTa4prqYHJ63RJZwFBqMMaAVcD3scldLUxrzwCAIgksFLhVywYuIyzb3xPFNqSDC63GXUjBgDinpQUeKTmk6cZeMlqjyhN51cnr9aFSTkWlWucFngVgrZ4uLsMyeB2fT3r86wPLzarTqWHgtKOeKUXuMY3sjUVe9fXSd7AnDuByFu/OPixj8ubvzj4sY/LpLnz4ptP/l3+0O21fw4ef5A3ffpGevvfZ3FywVw+vz74C4BNH/p/vfzYgk8B/4A5Hdg9fij64uHbn+6HqYVz4N/J0C2XucAfO82Vpu7549g9Uz4g2+rJ1Dm4FHsciPRz/fvz4U/eMoFEPn2YIPE6vDt2fAHf5/6rMV33qvDdnA+/ME96za1z4cvthDsbNGM+O8JHzwj2zfy0HvO58R/CLpcrvtEo7nyf8eNf1zc+MfFjX9c3PjHxY1/XNz4x0Ui/BuKmBJCMeQZpkqCPxeEtGJ3U58SuCyEe6AzAf5clvsM/yNq2JaOx9bi8+eFthJPc6iiMILo/Kklqs+z0Yh/9DJmwl5gAo3kXMRu/3o8HUXasl5it79DShEA0JyyGLv9oVuREGoSMzp/1+LEtT7tMjZ/7l5cWZu9GZu/V5EZTf5s7PHrWe4FnSdPx25/74I7Z78fvf3909FP8i+jt39AvSA+OH42YTJyIFDAgRJ8tKXx2x+ElKc/nt6K3/5BHXCsDhN9/AJLoRor9mIn0P6XJ+Mc0T+WQvuHFhgCEoIs/vgF4QeDuWxTaP/ww/3nlZZiwa3Iiw5ZGqnBhvIOYvNcAvlvbXny84fSJwHTnztB4N8TW21th1JUGheOCdNG+P6Y9GDA5+saTAKj15AcKpSRzYNe2a3VXb4OxkMzeF/eRjyyZ32dFmtxlK+DSYDFJr/v/+30ZKnXpUQEMDltV3DzG6x3ynOvZ5qICmkHMfr5tAbrfLXL2xO6LFCQzCDWmlG+6ajXe/5wC7jWZZGIGR1TBJ5vNi/aIhLBhe6mxdhSAglhmCrcCrpfH+GLuSlZfAKhxQo/XyFpIrBAYzJFeZhJsAhUhXQuCww7ZhtWmuYqCKtUE1Sx+EoIcWyZyx5HgKZgzCi867FcFf5n/Servj4N/KvkBJWFuiL0Zf3N8K66f214FqxJTIF6eN1hu0jx2mSfizW+6E4xT7jfnzphfZ5J4ShBk+6tdJY8jg/QyerbXAEOxXdY2lfPNyP3ftVFKpsYI5DpWjbQV8TyujAoFlgptVpC5filYYkAFoWiJ/NaQxXxvHMoLijD/fWKfW0YjqDICGaJuFA8UEMlJMZSKDQ/8jfccMMN18d/qGB1Ig4FnaEAAAAASUVORK5CYII='>"
   ]
  },
  {
   "cell_type": "markdown",
   "id": "4b746018",
   "metadata": {},
   "source": [
    "퍼셉트론 동작을 함수 h를 이용하여 표현하면\n",
    "\n",
    "y = h(b + w1x1 + w2x2)\n",
    "\n",
    "h(x) = 0 (x <= 0)\n",
    "\n",
    "       1 (x >  0)\n",
    "    \n",
    "입력 신호의 총합이 h(x)라는 함수를 거쳐 변환되어, 그 변환된 값이 y의 출력이 된다.\n",
    "\n",
    "이처럼 입력 신호의 총합을 출력 신호로 변환하는 함수 h(x)를 일반적으로 활성화 함수라 한다.\n",
    "\n",
    "활성화 함수의 처리 과정을 그림으로 표현하면 다음과 같다.\n",
    "\n",
    "<img src ='https://media.vlpt.us/post-images/dscwinterstudy/d1593000-38e9-11ea-b942-cb9b82d31200/%ED%99%9C%EC%84%B1%ED%99%94-%ED%95%A8%EC%88%98%EC%9D%98-%EC%B2%98%EB%A6%AC-%EA%B3%BC%EC%A0%95.PNG'>\n",
    "\n",
    "a는 입력 신호의 총합, h()는 활성화 함수, y는 출력"
   ]
  },
  {
   "cell_type": "markdown",
   "id": "6f358323",
   "metadata": {},
   "source": [
    "### 활성화 함수\n",
    "\n",
    "h(x) = 0 (x <= 0)\n",
    "\n",
    "       1 (x >  0)\n",
    "       \n",
    "위와 같이 임계값을 경계로 출력이 바뀌는 함수를 계단 함수라고 한다.\n",
    "그래서 \"퍼셉트론에서는 활성화 함수로 계단 함수를 이요한다.\" 라 할 수 있다.\n",
    "\n",
    "만약 계단 함수 이외의 함수를 사용하면?\n",
    "사실 활성화 함수를 계단 함수에서 다른 함수로 변경하는 것이 신경망의 세계로 나아가는 열쇠"
   ]
  },
  {
   "cell_type": "markdown",
   "id": "a0332bd9",
   "metadata": {},
   "source": [
    "#### 지그모이드 함수\n",
    "\n",
    "<img src = 'https://taewanmerepo.github.io/2017/09/sigmoid/post.jpg'>"
   ]
  },
  {
   "cell_type": "markdown",
   "id": "fa60fe2c",
   "metadata": {},
   "source": [
    "시그모이드 함수는 신경망에서 활성화 함수로 자주 이용"
   ]
  },
  {
   "cell_type": "markdown",
   "id": "b256d14b",
   "metadata": {},
   "source": [
    "### 계단 함수와 시그모이드 함수의 비교\n",
    "\n",
    "#### 계단 함수 구현하기"
   ]
  },
  {
   "cell_type": "code",
   "execution_count": 2,
   "id": "0e1cf67c",
   "metadata": {},
   "outputs": [],
   "source": [
    "def step_function(x):\n",
    "    if x > 0:\n",
    "        return 1\n",
    "    else:\n",
    "        return 0"
   ]
  },
  {
   "cell_type": "markdown",
   "id": "a2b5a7ff",
   "metadata": {},
   "source": [
    "위와 같이 구현할 수도 있지만 이 경우 인수 x는 실수만 받아들인다.\n",
    "즉 step_function(3.0)은 되지만 step_function(np.array([1.0, 2.0])) 는 안된다."
   ]
  },
  {
   "cell_type": "code",
   "execution_count": 3,
   "id": "d9452b06",
   "metadata": {},
   "outputs": [],
   "source": [
    "def step_function(x):\n",
    "    y = x > 0\n",
    "    return y.astype(np.int)"
   ]
  },
  {
   "cell_type": "markdown",
   "id": "61129f21",
   "metadata": {},
   "source": [
    "넘파이 배열에 부등호 연산을 수행하면 배열의 원소 각각에 부등호 연산을 수행한 bool 배열이 생성된다."
   ]
  },
  {
   "cell_type": "code",
   "execution_count": 4,
   "id": "c223edb7",
   "metadata": {},
   "outputs": [
    {
     "data": {
      "text/plain": [
       "array([-1.,  1.,  2.])"
      ]
     },
     "execution_count": 4,
     "metadata": {},
     "output_type": "execute_result"
    }
   ],
   "source": [
    "import numpy as np\n",
    "x = np.array([-1.0, 1.0, 2.0])\n",
    "x"
   ]
  },
  {
   "cell_type": "code",
   "execution_count": 5,
   "id": "309bfbdd",
   "metadata": {},
   "outputs": [
    {
     "data": {
      "text/plain": [
       "array([False,  True,  True])"
      ]
     },
     "execution_count": 5,
     "metadata": {},
     "output_type": "execute_result"
    }
   ],
   "source": [
    "y = x > 0\n",
    "y"
   ]
  },
  {
   "cell_type": "markdown",
   "id": "16e8a14b",
   "metadata": {},
   "source": [
    "y는 bool 배열이다.\n",
    "\n",
    "우리가 원하는 계단 함수는 0이나 1의 int형을 출력하는 함수이므로 배열 y의 원소를 bool에서 int로 바꿔준다"
   ]
  },
  {
   "cell_type": "code",
   "execution_count": 6,
   "id": "db829be6",
   "metadata": {},
   "outputs": [
    {
     "data": {
      "text/plain": [
       "array([0, 1, 1])"
      ]
     },
     "execution_count": 6,
     "metadata": {},
     "output_type": "execute_result"
    }
   ],
   "source": [
    "y = y.astype(np.int)\n",
    "y"
   ]
  },
  {
   "cell_type": "markdown",
   "id": "41742c44",
   "metadata": {},
   "source": [
    "#### 계단 함수의 그래프"
   ]
  },
  {
   "cell_type": "code",
   "execution_count": 7,
   "id": "997cd46a",
   "metadata": {},
   "outputs": [],
   "source": [
    "import matplotlib.pyplot as plt"
   ]
  },
  {
   "cell_type": "code",
   "execution_count": 8,
   "id": "d3f79428",
   "metadata": {},
   "outputs": [
    {
     "data": {
      "image/png": "[encoded data removed]",
      "text/plain": [
       "<Figure size 432x288 with 1 Axes>"
      ]
     },
     "metadata": {
      "needs_background": "light"
     },
     "output_type": "display_data"
    }
   ],
   "source": [
    "def step_function(x):\n",
    "    return np.array(x > 0,  dtype = np.int)\n",
    "\n",
    "x = np.arange(-5.0, 5.0, 0.01)\n",
    "y = step_function(x)\n",
    "\n",
    "plt.plot(x, y)\n",
    "plt.ylim(-0.1, 1.1)\n",
    "plt.show()"
   ]
  },
  {
   "cell_type": "markdown",
   "id": "69d53122",
   "metadata": {},
   "source": [
    "#### 시그모이드 함수 구현하기"
   ]
  },
  {
   "cell_type": "code",
   "execution_count": 9,
   "id": "b01449d1",
   "metadata": {},
   "outputs": [],
   "source": [
    "def sigmoid(x1):\n",
    "    return 1 / (1 + np.exp(-x1))"
   ]
  },
  {
   "cell_type": "markdown",
   "id": "5f387c35",
   "metadata": {},
   "source": [
    "#### 시그모이드 함수 그래프 구현"
   ]
  },
  {
   "cell_type": "code",
   "execution_count": 10,
   "id": "1ff93e2e",
   "metadata": {},
   "outputs": [
    {
     "data": {
      "image/png": "[encoded data removed]",
      "text/plain": [
       "<Figure size 432x288 with 1 Axes>"
      ]
     },
     "metadata": {
      "needs_background": "light"
     },
     "output_type": "display_data"
    }
   ],
   "source": [
    "x1 = np.arange(-5.0, 5.0, 0.01)\n",
    "y1 = sigmoid(x1)\n",
    "plt.plot(x1, y1)\n",
    "plt.ylim(-0.1, 1.1)\n",
    "plt.show()"
   ]
  },
  {
   "cell_type": "markdown",
   "id": "ef991dbc",
   "metadata": {},
   "source": [
    "#### 시그모이드 함수와 계단 함수 비교"
   ]
  },
  {
   "cell_type": "code",
   "execution_count": 11,
   "id": "83acd844",
   "metadata": {
    "scrolled": true
   },
   "outputs": [
    {
     "data": {
      "image/png": "[encoded data removed]",
      "text/plain": [
       "<Figure size 432x288 with 1 Axes>"
      ]
     },
     "metadata": {
      "needs_background": "light"
     },
     "output_type": "display_data"
    }
   ],
   "source": [
    "plt.plot(x, y)\n",
    "plt.plot(x1, y1)\n",
    "plt.xlim(-4, 4)\n",
    "plt.show()"
   ]
  },
  {
   "cell_type": "markdown",
   "id": "889140c7",
   "metadata": {},
   "source": [
    "시그모이드 함수의 매끈함이 신경망 학습에서 아주 중요한 역할."
   ]
  },
  {
   "cell_type": "markdown",
   "id": "2777cfd2",
   "metadata": {},
   "source": [
    "#### 비선형 함수"
   ]
  },
  {
   "cell_type": "markdown",
   "id": "bb6d7e18",
   "metadata": {},
   "source": [
    "계단 함수와 시그모이드 함수의 공통점은 비선형 함수라는 것.\n",
    "\n",
    "신경망에서는 활성화 함수로 비선형 함수를 사용해야 한다.\n",
    "\n",
    "선형 함수를 이용하면 신경망의 층을 깊게 하는 의미가 없어지기 때문"
   ]
  },
  {
   "cell_type": "markdown",
   "id": "7064a396",
   "metadata": {},
   "source": [
    "#### ReLU 함수"
   ]
  },
  {
   "cell_type": "markdown",
   "id": "bca14efb",
   "metadata": {},
   "source": [
    "최근에는 ReLU(Rectified Linear Unit) 함수를 신경망에서 주로 이용.\n",
    "\n",
    "ReLU 는 입력이 0을 넘으면 그 입력을 그대로 출력하고, 0 이하이면 0을 출력하는 함수"
   ]
  },
  {
   "cell_type": "code",
   "execution_count": 12,
   "id": "da530cfc",
   "metadata": {},
   "outputs": [
    {
     "data": {
      "image/png": "[encoded data removed]",
      "text/plain": [
       "<Figure size 432x288 with 1 Axes>"
      ]
     },
     "metadata": {
      "needs_background": "light"
     },
     "output_type": "display_data"
    }
   ],
   "source": [
    "def relu(x):\n",
    "    return np.maximum(0, x) # 넘파이의 maximum 함수는 두 입력 중 큰 값을 반환하는 함수\n",
    "\n",
    "x = np.arange(-5.0, 5.0, 0.01)\n",
    "y = relu(x)\n",
    "\n",
    "plt.plot(x, y)\n",
    "plt.show()"
   ]
  },
  {
   "cell_type": "markdown",
   "id": "45e883f9",
   "metadata": {},
   "source": [
    "### 다차원 배열의 계산"
   ]
  },
  {
   "cell_type": "markdown",
   "id": "f82598ad",
   "metadata": {},
   "source": [
    "#### 다차원 배열"
   ]
  },
  {
   "cell_type": "code",
   "execution_count": 13,
   "id": "79a645ab",
   "metadata": {},
   "outputs": [
    {
     "name": "stdout",
     "output_type": "stream",
     "text": [
      "[[1 2]\n",
      " [3 4]\n",
      " [5 6]]\n"
     ]
    }
   ],
   "source": [
    "B = np.array([[1, 2], [3, 4], [5, 6]])\n",
    "print(B)"
   ]
  },
  {
   "cell_type": "code",
   "execution_count": 14,
   "id": "7751c0bf",
   "metadata": {},
   "outputs": [
    {
     "data": {
      "text/plain": [
       "2"
      ]
     },
     "execution_count": 14,
     "metadata": {},
     "output_type": "execute_result"
    }
   ],
   "source": [
    "np.ndim(B)"
   ]
  },
  {
   "cell_type": "code",
   "execution_count": 15,
   "id": "688b08d1",
   "metadata": {},
   "outputs": [
    {
     "data": {
      "text/plain": [
       "(3, 2)"
      ]
     },
     "execution_count": 15,
     "metadata": {},
     "output_type": "execute_result"
    }
   ],
   "source": [
    "B.shape"
   ]
  },
  {
   "cell_type": "markdown",
   "id": "5362151f",
   "metadata": {},
   "source": [
    "shape이 (3, 2)라는 것은 처음 차원에 원소가 3개, 다음 차원에 원소가 2개 있다는 의미.\n",
    "\n",
    "이 때 처음 차원은 0번째 차원, 다음 차원은 1번째 차원.\n",
    "\n",
    "2차원 행렬은 특히 행렬이라고 부른다."
   ]
  },
  {
   "cell_type": "markdown",
   "id": "40e32d7a",
   "metadata": {},
   "source": [
    "#### 행렬의 곱\n",
    "\n",
    "행렬의 곱은 이수안컴퓨터 딥러닝 기초에서 했으므로 자체 생략"
   ]
  },
  {
   "cell_type": "markdown",
   "id": "97efa62f",
   "metadata": {},
   "source": [
    "#### 신경망에서의 행렬 곱\n",
    "\n",
    "입력 행렬 X, 가중치 행렬 W, 출력 행렬 Y 일 때"
   ]
  },
  {
   "cell_type": "code",
   "execution_count": 16,
   "id": "55711617",
   "metadata": {},
   "outputs": [
    {
     "data": {
      "text/plain": [
       "(2,)"
      ]
     },
     "execution_count": 16,
     "metadata": {},
     "output_type": "execute_result"
    }
   ],
   "source": [
    "X = np.array([1, 2])\n",
    "X.shape"
   ]
  },
  {
   "cell_type": "code",
   "execution_count": 17,
   "id": "31c524f9",
   "metadata": {},
   "outputs": [
    {
     "name": "stdout",
     "output_type": "stream",
     "text": [
      "[[1 3 5]\n",
      " [2 4 6]]\n"
     ]
    }
   ],
   "source": [
    "W = np.array([[1, 3, 5], [2, 4, 6]])\n",
    "print(W)"
   ]
  },
  {
   "cell_type": "code",
   "execution_count": 18,
   "id": "091810a0",
   "metadata": {},
   "outputs": [
    {
     "data": {
      "text/plain": [
       "(2, 3)"
      ]
     },
     "execution_count": 18,
     "metadata": {},
     "output_type": "execute_result"
    }
   ],
   "source": [
    "W.shape"
   ]
  },
  {
   "cell_type": "markdown",
   "id": "e84a5959",
   "metadata": {},
   "source": [
    "1차원 행렬과 2차원 행렬도 대응하는 차원의 원소 수가 같다면 (여기서는 2) 곱이 가능\n",
    "\n",
    "결과인 Y의 shape은 (3,)"
   ]
  },
  {
   "cell_type": "code",
   "execution_count": 19,
   "id": "5f56073c",
   "metadata": {},
   "outputs": [
    {
     "name": "stdout",
     "output_type": "stream",
     "text": [
      "[ 5 11 17]\n"
     ]
    }
   ],
   "source": [
    "Y = np.dot(X, W)\n",
    "print(Y)"
   ]
  },
  {
   "cell_type": "code",
   "execution_count": 20,
   "id": "1e1658da",
   "metadata": {},
   "outputs": [
    {
     "data": {
      "text/plain": [
       "(3,)"
      ]
     },
     "execution_count": 20,
     "metadata": {},
     "output_type": "execute_result"
    }
   ],
   "source": [
    "Y.shape"
   ]
  },
  {
   "cell_type": "markdown",
   "id": "13fe1768",
   "metadata": {},
   "source": [
    "### 3층 신경망 구현하기"
   ]
  },
  {
   "cell_type": "markdown",
   "id": "90bcbef7",
   "metadata": {},
   "source": [
    "입력층(0층)은 2개, 첫 번째 은닉층(1층)은 3개, 두 번째 은닉층(2층)은 2개, 출력층(3층)은 2개의 뉴런로 구성된 3층 신경망"
   ]
  },
  {
   "cell_type": "markdown",
   "id": "978564d8",
   "metadata": {},
   "source": [
    "### 각 층의 신호 전달 구현하기"
   ]
  },
  {
   "cell_type": "code",
   "execution_count": 21,
   "id": "41e3cf1b",
   "metadata": {},
   "outputs": [
    {
     "name": "stdout",
     "output_type": "stream",
     "text": [
      "(2, 3)\n",
      "(2,)\n",
      "(3,)\n"
     ]
    }
   ],
   "source": [
    "# 입력 신호, 가중치, 편향은 적당한 값으로 설정\n",
    "\n",
    "X = np.array([1.0, 0.5])\n",
    "W1 = np.array([[0.1, 0.3, 0.5], [0.2, 0.4, 0.6]]) # 0층에서 1층(은닉층)으로 갈 때 가중치\n",
    "B1 = np.array([0.1, 0.2, 0.3])\n",
    "\n",
    "print(W1.shape)\n",
    "print(X.shape)\n",
    "print(B1.shape)"
   ]
  },
  {
   "cell_type": "code",
   "execution_count": 22,
   "id": "bfa29789",
   "metadata": {},
   "outputs": [],
   "source": [
    "A1 = np.dot(X, W1) + B1"
   ]
  },
  {
   "cell_type": "code",
   "execution_count": 23,
   "id": "adc8801a",
   "metadata": {},
   "outputs": [],
   "source": [
    "Z1 = sigmoid(A1)"
   ]
  },
  {
   "cell_type": "code",
   "execution_count": 24,
   "id": "a302168f",
   "metadata": {},
   "outputs": [
    {
     "name": "stdout",
     "output_type": "stream",
     "text": [
      "[0.3 0.7 1.1] [0.57444252 0.66818777 0.75026011]\n"
     ]
    }
   ],
   "source": [
    "print(A1, Z1)"
   ]
  },
  {
   "cell_type": "code",
   "execution_count": 25,
   "id": "2748094d",
   "metadata": {},
   "outputs": [
    {
     "name": "stdout",
     "output_type": "stream",
     "text": [
      "(3,)\n",
      "(3, 2)\n",
      "(2,)\n"
     ]
    }
   ],
   "source": [
    "W2 = np.array([[0.1, 0.4], [0.2, 0.5], [0.3, 0.6]])\n",
    "B2 = np.array([0.1, 0.2])\n",
    "\n",
    "print(Z1.shape)\n",
    "print(W2.shape)\n",
    "print(B2.shape)"
   ]
  },
  {
   "cell_type": "code",
   "execution_count": 26,
   "id": "5535c5bb",
   "metadata": {},
   "outputs": [],
   "source": [
    "A2 = np.dot(Z1, W2) + B2\n",
    "Z2 = sigmoid(A2)"
   ]
  },
  {
   "cell_type": "code",
   "execution_count": 29,
   "id": "e2d38f69",
   "metadata": {},
   "outputs": [],
   "source": [
    "# 항등함수 정의. 입력을 그대로 출력하는 함수.\n",
    "\n",
    "def identity_function(x):\n",
    "    return x\n",
    "\n",
    "W3 = np.array([[0.1, 0.3], [0.2, 0.4]])\n",
    "B3 = np.array([0.1, 0.2])\n",
    "\n",
    "A3 = np.dot(Z2, W3) + B3\n",
    "Y = identity_function(A3)"
   ]
  },
  {
   "cell_type": "markdown",
   "id": "ea5bd68e",
   "metadata": {},
   "source": [
    "### 3층 신경망 구현 정리"
   ]
  },
  {
   "cell_type": "code",
   "execution_count": 30,
   "id": "f89a981c",
   "metadata": {},
   "outputs": [
    {
     "name": "stdout",
     "output_type": "stream",
     "text": [
      "[0.31682708 0.69627909]\n"
     ]
    }
   ],
   "source": [
    "# init_network는 가중치와 편향을 초기화하고 이들을 딕셔너리 변수인 network에 저장\n",
    "def init_network():\n",
    "    network = {} # 각 층에 필요한 매개변수(가중치와 편향)를 저장하는 딕셔너리\n",
    "    network['W1'] = np.array([[0.1, 0.3, 0.5], [0.2, 0.4, 0.6]])\n",
    "    network['b1'] = np.array(([0.1, 0.2, 0.3]))\n",
    "    network['W2'] = np.array([[0.1, 0.4], [0.2, 0.5], [0.3, 0.6]])\n",
    "    network['b2'] = np.array([0.1, 0.2])\n",
    "    network['W3'] = np.array([[0.1, 0.3], [0.2, 0.4]])\n",
    "    network['b3'] = np.array([0.1, 0.2])\n",
    "    \n",
    "    return network\n",
    "\n",
    "def forward(network, x): # 입력신호를 출력신호르 변환하는 처리 과정\n",
    "    W1, W2, W3 = network['W1'], network['W2'], network['W3']\n",
    "    b1, b2, b3 = network['b1'], network['b2'], network['b3']\n",
    "    \n",
    "    a1 = np.dot(x, W1) + b1\n",
    "    z1 = sigmoid(a1)\n",
    "    a2 = np.dot(z1, W2) + b2\n",
    "    z2 = sigmoid(a2)\n",
    "    a3 = np.dot(z2, W3) + b3\n",
    "    y = identity_function(a3)\n",
    "    \n",
    "    return y\n",
    "\n",
    "network = init_network()\n",
    "x = np.array([1.0, 0.5])\n",
    "y = forward(network, x)\n",
    "print(y)"
   ]
  },
  {
   "cell_type": "markdown",
   "id": "d248ef44",
   "metadata": {},
   "source": [
    "## 3.5 출력층 설계하기\n",
    "\n",
    "신경망은 분류와 회귀 모두에 이용.\n",
    "\n",
    "일반적으로 회귀에는 항등 함수를, 분류에는 소프트맥스 함수를 사용\n",
    "\n",
    "### 3.5.1 항등 함수와 소프트맥스 함수 구현하기\n",
    "\n",
    "항등 함수는 입력을 그대로 출력.\n",
    "\n",
    "소프트맥스 함수의 식은 다음과 같다.\n",
    "\n",
    "<img src = 'https://blog.kakaocdn.net/dn/7o3ns/btqvQDIyhq4/FYgVfbO6NaJrkc7y11f440/img.png'>\n",
    "\n",
    "n은 출력층의 뉴런 수, yk 는 그 중 k번째 출력임을 의미"
   ]
  },
  {
   "cell_type": "code",
   "execution_count": 32,
   "id": "1e6b54b0",
   "metadata": {},
   "outputs": [
    {
     "name": "stdout",
     "output_type": "stream",
     "text": [
      "[ 1.34985881 18.17414537 54.59815003]\n"
     ]
    }
   ],
   "source": [
    "a = np.array([0.3, 2.9, 4.0])\n",
    "\n",
    "exp_a = np.exp(a)\n",
    "print(exp_a)"
   ]
  },
  {
   "cell_type": "code",
   "execution_count": 33,
   "id": "7d3659ec",
   "metadata": {},
   "outputs": [
    {
     "name": "stdout",
     "output_type": "stream",
     "text": [
      "74.1221542101633\n"
     ]
    }
   ],
   "source": [
    "sum_exp_a = np.sum(exp_a)\n",
    "print(sum_exp_a)"
   ]
  },
  {
   "cell_type": "code",
   "execution_count": 34,
   "id": "7b8ed755",
   "metadata": {},
   "outputs": [
    {
     "name": "stdout",
     "output_type": "stream",
     "text": [
      "[0.01821127 0.24519181 0.73659691]\n"
     ]
    }
   ],
   "source": [
    "y = exp_a / np.sum(exp_a)\n",
    "print(y)"
   ]
  },
  {
   "cell_type": "code",
   "execution_count": 35,
   "id": "df52cb4c",
   "metadata": {},
   "outputs": [],
   "source": [
    "def softmax(a):\n",
    "    exp_a = np.exp(a)\n",
    "    sum_exp_a = np.sum(exp_a)\n",
    "    y = exp_a / sum_exp_a\n",
    "    \n",
    "    return y"
   ]
  },
  {
   "cell_type": "markdown",
   "id": "f5ebffcd",
   "metadata": {},
   "source": [
    "### 3.5.2 소프트맥스 함수 구현 시 주의점\n",
    "\n",
    "지수함수는 쉽게 아주 큰 값을 내뱉는다.\n",
    "\n",
    "컴퓨터는 수를 4바이트 8바이트와 같이 크기가 유한한 데이터로 다루기에 표현할 수 있는 수의 범위가 한정되어\n",
    "\n",
    "너무 큰 값은 표현할 수 없다는 문제가 있다. 이것을 overflow라 한다."
   ]
  },
  {
   "cell_type": "code",
   "execution_count": 36,
   "id": "8661d547",
   "metadata": {},
   "outputs": [
    {
     "name": "stderr",
     "output_type": "stream",
     "text": [
      "<ipython-input-36-23103c906500>:2: RuntimeWarning: overflow encountered in exp\n",
      "  np.exp(a) / np.sum(np.exp(a))\n",
      "<ipython-input-36-23103c906500>:2: RuntimeWarning: invalid value encountered in true_divide\n",
      "  np.exp(a) / np.sum(np.exp(a))\n"
     ]
    },
    {
     "data": {
      "text/plain": [
       "array([nan, nan, nan])"
      ]
     },
     "execution_count": 36,
     "metadata": {},
     "output_type": "execute_result"
    }
   ],
   "source": [
    "a = np.array([1010, 1000, 990])\n",
    "np.exp(a) / np.sum(np.exp(a))\n",
    "# 제대로 계산되지 않는다."
   ]
  },
  {
   "cell_type": "code",
   "execution_count": 37,
   "id": "d0f430fa",
   "metadata": {},
   "outputs": [
    {
     "data": {
      "text/plain": [
       "array([  0, -10, -20])"
      ]
     },
     "execution_count": 37,
     "metadata": {},
     "output_type": "execute_result"
    }
   ],
   "source": [
    "c = np.max(a) # c = 1010\n",
    "a - c"
   ]
  },
  {
   "cell_type": "code",
   "execution_count": 38,
   "id": "9e1f9227",
   "metadata": {},
   "outputs": [
    {
     "data": {
      "text/plain": [
       "array([9.99954600e-01, 4.53978686e-05, 2.06106005e-09])"
      ]
     },
     "execution_count": 38,
     "metadata": {},
     "output_type": "execute_result"
    }
   ],
   "source": [
    "np.exp(a - c) / np.sum(np.exp(a - c))"
   ]
  },
  {
   "cell_type": "markdown",
   "id": "9e04ee63",
   "metadata": {},
   "source": [
    "아무런 조치 없이 그냥 계산하면 nan이 출력된다.\n",
    "\n",
    "하지만 입력 신호 중 최대값(이 예에서는 c = 1010)을 빼주면 올바르게 계산할 수 있다."
   ]
  },
  {
   "cell_type": "code",
   "execution_count": 39,
   "id": "66c4c62a",
   "metadata": {},
   "outputs": [],
   "source": [
    "def softmax(a):\n",
    "    c = np.max(a)\n",
    "    exp_a = np.exp(a - c) # overflow 대책\n",
    "    sum_exp_a = np.sum(exp_a)\n",
    "    y = exp_a / sum_exp_a\n",
    "    \n",
    "    return y"
   ]
  },
  {
   "cell_type": "code",
   "execution_count": 40,
   "id": "dd43f20b",
   "metadata": {},
   "outputs": [
    {
     "name": "stdout",
     "output_type": "stream",
     "text": [
      "[0.01821127 0.24519181 0.73659691]\n"
     ]
    }
   ],
   "source": [
    "### 3.5.3 소프트맥스 함수의 특징\n",
    "\n",
    "a = np.array([0.3, 2.9, 4.0])\n",
    "y = softmax(a)\n",
    "print(y)"
   ]
  },
  {
   "cell_type": "code",
   "execution_count": 41,
   "id": "89a14dfb",
   "metadata": {},
   "outputs": [
    {
     "data": {
      "text/plain": [
       "1.0"
      ]
     },
     "execution_count": 41,
     "metadata": {},
     "output_type": "execute_result"
    }
   ],
   "source": [
    "np.sum(y)"
   ]
  },
  {
   "cell_type": "markdown",
   "id": "859a61d7",
   "metadata": {},
   "source": [
    "소프트맥스 함수의 출력은 0에서 1 사이의 실수이며\n",
    "\n",
    "출력 총합이 1이 되는데 이는 소프트맥스 함수의 중요한 성질이다.\n",
    "\n",
    "이 성질 덕분에 소프트맥스 함수의 출력을 '확률'로 해석 가능하다.\n",
    "\n",
    "예를 들어 앞의 예에서 y[0] 확률은 1.8%, y[1] 확률은 24.5%, y[2] 확률은 73.7% 이므로\n",
    "\n",
    "'2번째 원소의 확률이 가장 높으니, 답은 2번째 클래스다' 라고 할 수 있다."
   ]
  },
  {
   "cell_type": "markdown",
   "id": "e50e8225",
   "metadata": {},
   "source": [
    "### 3.5.4 출력층의 뉴런 수 정하기\n",
    "\n",
    "출력층의 뉴런 수는 풀려는 문제에 맞게 적절히 정해야 한다.\n",
    "\n",
    "분류에서는 분류하고 싶은 클래스 수로 설정하는 것이 일반적.\n",
    "\n",
    "## 3.6 손글씨 숫자 인식\n",
    "\n",
    "손글씨 숫자 분류로 실습해보자.\n",
    "\n",
    "### 3.6.1 MNIST 데이터셋\n",
    "\n",
    "MNIST 데이터셋은 0부터 9까지의 숫자 이미지로 구성된다.\n",
    "\n",
    "훈련 이미지 60,000장, 시험 이미지 10,000장이 준비돼 있다."
   ]
  },
  {
   "cell_type": "code",
   "execution_count": 45,
   "id": "381a5dba",
   "metadata": {},
   "outputs": [
    {
     "name": "stdout",
     "output_type": "stream",
     "text": [
      "Downloading train-images-idx3-ubyte.gz ... \n",
      "Done\n",
      "Downloading train-labels-idx1-ubyte.gz ... \n",
      "Done\n",
      "Downloading t10k-images-idx3-ubyte.gz ... \n",
      "Done\n",
      "Downloading t10k-labels-idx1-ubyte.gz ... \n",
      "Done\n",
      "Converting train-images-idx3-ubyte.gz to NumPy Array ...\n",
      "Done\n",
      "Converting train-labels-idx1-ubyte.gz to NumPy Array ...\n",
      "Done\n",
      "Converting t10k-images-idx3-ubyte.gz to NumPy Array ...\n",
      "Done\n",
      "Converting t10k-labels-idx1-ubyte.gz to NumPy Array ...\n",
      "Done\n",
      "Creating pickle file ...\n",
      "Done!\n"
     ]
    }
   ],
   "source": [
    "import sys, os\n",
    "sys.path.append(os.pardir)\n",
    "from dataset.mnist import load_mnist\n",
    "(x_train, t_train), (x_test, t_test) = \\\n",
    "load_mnist(flatten=True, normalize=False)\n",
    "# normalize: 입력 이미지의 픽셀값을 0.0~1.0 사이의 값으로 정규화할지 여부\n",
    "# flatten: 입력 이미지를 1차원 배열로 만들지 여부. False면 1 x 28 x 28의 3차원 배열, True면 784개 원소로 이뤄진 1차원 배열\n",
    "# one-hot_label: 레이블을 원핫 인코딩 형태로 저장할지 여부"
   ]
  },
  {
   "cell_type": "code",
   "execution_count": 46,
   "id": "ab30d6ab",
   "metadata": {},
   "outputs": [
    {
     "name": "stdout",
     "output_type": "stream",
     "text": [
      "(60000, 784)\n",
      "(60000,)\n",
      "(10000, 784)\n",
      "(10000,)\n"
     ]
    }
   ],
   "source": [
    "print(x_train.shape)\n",
    "print(t_train.shape)\n",
    "print(x_test.shape)\n",
    "print(t_test.shape)"
   ]
  },
  {
   "cell_type": "code",
   "execution_count": 52,
   "id": "9df370c8",
   "metadata": {},
   "outputs": [
    {
     "name": "stdout",
     "output_type": "stream",
     "text": [
      "5\n",
      "(784,)\n",
      "(28, 28)\n"
     ]
    }
   ],
   "source": [
    "import sys, os\n",
    "sys.path.append(os.pardir)\n",
    "import numpy as np\n",
    "from dataset.mnist import load_mnist\n",
    "from PIL import Image\n",
    "\n",
    "def img_show(img):\n",
    "    pil_img = Image.fromarray(np.uint8(img)) # 넘파이로 저장된 이미지 데이터를 PIL용 데이터 객체로 변환\n",
    "    pil_img.show()\n",
    "    \n",
    "(x_train, t_train), (x_test, t_test) = load_mnist(flatten = True, normalize = False)\n",
    "\n",
    "img = x_train[0]\n",
    "label = t_train[0]\n",
    "print(label) # 5\n",
    "\n",
    "print(img.shape) # (784, )\n",
    "img = img.reshape(28, 28) # 원래 이미지의 모양으로 변형\n",
    "print(img.shape) # (28, 28)\n",
    "\n",
    "img_show(img)"
   ]
  },
  {
   "cell_type": "markdown",
   "id": "427d1552",
   "metadata": {},
   "source": [
    "### 3.6.2 신경망의 추론 처리\n",
    "\n",
    "MNIST 데이터셋을 가지고 추론을 수행하는 신경망 구현.\n",
    "\n",
    "이 신경망은 입력층 뉴런 784개, 출력층 뉴런 10개로 구성.\n",
    "\n",
    "입력층 뉴런이 784개인 이유는 이미지 크기가 28 x 28 = 784이기 때문이고,\n",
    "\n",
    "출력층 뉴런이 10개인 이유는 이 문제가 0~9까지의 숫자를 구분하는 문제이기 때문.\n",
    "\n",
    "은닉층은 총 두 개로, 첫 번째 은닉층에 50개의 뉴런, 두 번째 은닉층에는 100개의 뉴런을 배치할 예정 (임의로 정한 값)"
   ]
  },
  {
   "cell_type": "code",
   "execution_count": 53,
   "id": "4c295bdd",
   "metadata": {},
   "outputs": [],
   "source": [
    "import pickle\n",
    "\n",
    "def get_data():\n",
    "    (x_train, t_train), (x_test, t_test) = load_mnist(normalize = True, flatten = True, one_hot_label = False)\n",
    "    \n",
    "    return x_test, t_test\n",
    "\n",
    "def init_network():\n",
    "    with open('sample_weight.pkl', 'rb') as f:\n",
    "        network = pickle.load(f)\n",
    "        \n",
    "    return network\n",
    "\n",
    "def predict(network, x):\n",
    "    W1, W2, W3 = network['W1'], network['W2'], network['W3']\n",
    "    b1, b2, b3 = network['b1'], network['b2'], network['b3']\n",
    "    \n",
    "    a1 = np.dot(x, W1) + b1\n",
    "    z1 = sigmoid(a1)\n",
    "    a2 = np.dot(z1, W2) + b2\n",
    "    z2 = sigmoid(a2)\n",
    "    a3 = np.dot(z2, W3) + b3\n",
    "    y = softmax(a3)\n",
    "    \n",
    "    return y"
   ]
  },
  {
   "cell_type": "markdown",
   "id": "3bfb8b1b",
   "metadata": {},
   "source": [
    "init_network()는 pickle 파일인 sample_weight.pkl에 저장된 '학습지 가중치 매개변수'를 읽는다.\n",
    "\n",
    "이 파일에는 가중치와 편향 매개변수가 딕셔너리 변수로 저장되어 있다."
   ]
  },
  {
   "cell_type": "code",
   "execution_count": 57,
   "id": "eec685b8",
   "metadata": {},
   "outputs": [
    {
     "name": "stdout",
     "output_type": "stream",
     "text": [
      "Accuracy: 0.9352\n"
     ]
    }
   ],
   "source": [
    "x, t = get_data()\n",
    "network = init_network()\n",
    "\n",
    "accuracy_cnt = 0\n",
    "\n",
    "for i in range(len(x)):\n",
    "    y = predict(network, x[i])\n",
    "    p = np.argmax(y) # 확률이 가장 높은 원소의 인덱스를 얻음\n",
    "    if p == t[i]:\n",
    "        accuracy_cnt += 1\n",
    "        \n",
    "print(\"Accuracy: {}\".format((accuracy_cnt / len(x))))"
   ]
  },
  {
   "cell_type": "markdown",
   "id": "9aa7f1e3",
   "metadata": {},
   "source": [
    "for 문을 돌며 x에 저장된 이미지 데이터를 1장씩 꺼내 predict() 함수로 분류한다.\n",
    "\n",
    "predict 함수는 각 레이블의 확률을 넘파이 배열로 반환한다.\n",
    "\n",
    "그런 다음 np.argmax() 함수로 이 배열에서 가장 확률이 높은 원소의 인덱스를 구한다.\n",
    "\n",
    "마지막으로, 신경망이 예측한 답변과 정답 레이블을 비교하여 맞힌 숫자(accuracy_cnt)를 세고,\n",
    "\n",
    "이를 전체 이미지 숫자로 나눠 정확도를 구한다."
   ]
  },
  {
   "cell_type": "code",
   "execution_count": 58,
   "id": "84b40461",
   "metadata": {},
   "outputs": [
    {
     "name": "stdout",
     "output_type": "stream",
     "text": [
      "Accuracy: 0.9352\n"
     ]
    }
   ],
   "source": [
    "### 3.6.3 배치 처리\n",
    "\n",
    "x, t = get_data()\n",
    "network = init_network()\n",
    "\n",
    "batch_size = 100 # 배치 크기\n",
    "accuracy_cnt = 0\n",
    "\n",
    "for i in range(0, len(x), batch_size):\n",
    "    x_batch = x[i : i + batch_size]\n",
    "    y_batch = predict(network, x_batch)\n",
    "    p = np.argmax(y_batch, axis = 1)\n",
    "    accuracy_cnt += np.sum(p == t[i : i + batch_size])\n",
    "    \n",
    "print(\"Accuracy: {}\".format(accuracy_cnt / len(x)))"
   ]
  },
  {
   "cell_type": "markdown",
   "id": "8155ab46",
   "metadata": {},
   "source": [
    "이 예에서는 batch_size가 100이므로 x[0:100], x[100:200]...와 같이 앞에서부터 100장씩 묶어 꺼낸다."
   ]
  },
  {
   "cell_type": "markdown",
   "id": "ab3b72ed",
   "metadata": {},
   "source": [
    "## 3.7 정리\n",
    "\n",
    "이번 장에서 설명한 신경망은 각 층의 뉴런들이 다음 층의 뉴런으로 신호를 전달한다는 점에서 앞 장의 퍼셉트론과 같다.\n",
    "\n",
    "하지만 다음 뉴런으로 갈 때 신호를 변화시키는 활성화 함수에 큰 차이가 있었다.\n",
    "\n",
    "신경망에서는 매끄럽게 변화하는 시그모이드 함수를, 퍼셉트론에서는 갑자기 변화하는 계단 함수를 활성화 함수로 사용했다.\n",
    "\n",
    "이 차이가 신경망 학습에 중요하다."
   ]
  }
 ],
 "metadata": {
  "kernelspec": {
   "display_name": "Python 3",
   "language": "python",
   "name": "python3"
  },
  "language_info": {
   "codemirror_mode": {
    "name": "ipython",
    "version": 3
   },
   "file_extension": ".py",
   "mimetype": "text/x-python",
   "name": "python",
   "nbconvert_exporter": "python",
   "pygments_lexer": "ipython3",
   "version": "3.8.8"
  }
 },
 "nbformat": 4,
 "nbformat_minor": 5
}
