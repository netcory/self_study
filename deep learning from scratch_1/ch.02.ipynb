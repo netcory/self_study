{
 "cells": [
  {
   "cell_type": "markdown",
   "id": "486bd15e",
   "metadata": {},
   "source": [
    "<img src = 'https://www.hanbit.co.kr/data/books/B8475831198_l.jpg'>"
   ]
  },
  {
   "cell_type": "markdown",
   "id": "79965c6f",
   "metadata": {},
   "source": [
    "<img src = 'data:image/png;base64,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'>"
   ]
  },
  {
   "cell_type": "markdown",
   "id": "fb6a6917",
   "metadata": {},
   "source": [
    "퍼셉트론은 다수의 신호를 입력으로 받아 하나의 신호를 출력.\n",
    "퍼셉트론 신호는 흐른다(1) / 안흐른다(0) 두 가지 값을 가질 수 있다.\n",
    "\n",
    "위 그림에서 x1, x2는 입력 신호, y는 출력 신호, w1과 w2는 가중치.\n",
    "원을 뉴런 혹은 노드라고 부른다.\n",
    "\n",
    "입력 신호가 뉴런에 보내질 때는 각각 고유한 가중치가 곱해진다. (w1x1, w2x2)\n",
    "뉴런에서 보내온 신호의 총합이 정해진 한계를 넘어설 때만 1을 출력(뉴런의 활성화).\n",
    "그 한계를 임계값이라 하며, 세타 기호로 표현"
   ]
  },
  {
   "cell_type": "markdown",
   "id": "a146b2b0",
   "metadata": {},
   "source": [
    "<img src = 'https://blog.kakaocdn.net/dn/bbz2Sz/btqEPlzdVNN/U1doKVEkSeQfA1W5OPNkqK/img.jpg'>"
   ]
  },
  {
   "cell_type": "markdown",
   "id": "a683a2aa",
   "metadata": {},
   "source": [
    "# 퍼셉트론 구현하기"
   ]
  },
  {
   "cell_type": "code",
   "execution_count": 19,
   "id": "d030497a",
   "metadata": {},
   "outputs": [],
   "source": [
    "def AND(x1, x2):\n",
    "    w1, w2, theta = 0.5, 0.5, 0.7\n",
    "    tmp = x1*w1 + x2*w2\n",
    "    if tmp <= theta:\n",
    "        return 0\n",
    "    elif tmp > theta:\n",
    "        return 1"
   ]
  },
  {
   "cell_type": "code",
   "execution_count": 20,
   "id": "294ce89f",
   "metadata": {},
   "outputs": [
    {
     "name": "stdout",
     "output_type": "stream",
     "text": [
      "0 0 0 1\n"
     ]
    }
   ],
   "source": [
    "print(AND(0, 0), AND(1, 0), AND(0, 1), AND(1, 1))"
   ]
  },
  {
   "cell_type": "markdown",
   "id": "1d162313",
   "metadata": {},
   "source": [
    "<img src = 'https://t1.daumcdn.net/cfile/tistory/9979C74F5B83619A28'>"
   ]
  },
  {
   "cell_type": "markdown",
   "id": "32fdb827",
   "metadata": {},
   "source": [
    "세타를 -b로 치환하면 위와 같이 수식이 바뀐다.\n",
    "여기서 b를 편향(bias)라 한다."
   ]
  },
  {
   "cell_type": "code",
   "execution_count": 11,
   "id": "688dcde8",
   "metadata": {},
   "outputs": [
    {
     "data": {
      "text/plain": [
       "array([0. , 0.5])"
      ]
     },
     "execution_count": 11,
     "metadata": {},
     "output_type": "execute_result"
    }
   ],
   "source": [
    "import numpy as np\n",
    "\n",
    "x = np.array([0, 1])\n",
    "w = np.array([0.5, 0.5])\n",
    "b = -0.7\n",
    "w*x"
   ]
  },
  {
   "cell_type": "code",
   "execution_count": 13,
   "id": "5caa1678",
   "metadata": {},
   "outputs": [
    {
     "data": {
      "text/plain": [
       "-0.19999999999999996"
      ]
     },
     "execution_count": 13,
     "metadata": {},
     "output_type": "execute_result"
    }
   ],
   "source": [
    "np.sum(w*x) + b # 대략 -0.2 (부동소수점 수에 의한 연산 오차)"
   ]
  },
  {
   "cell_type": "markdown",
   "id": "54794469",
   "metadata": {},
   "source": [
    "## 편향을 도입한 AND, NAND, OR 게이트 구현"
   ]
  },
  {
   "cell_type": "code",
   "execution_count": 15,
   "id": "d2213985",
   "metadata": {},
   "outputs": [],
   "source": [
    "def AND(x1, x2):\n",
    "    x = np.array([x1, x2])\n",
    "    w = np.array([0.5, 0.5])\n",
    "    b = -0.7\n",
    "    tmp = np.sum(w*x) + b\n",
    "    \n",
    "    if tmp <= 0:\n",
    "        return 0\n",
    "    else :\n",
    "        return 1"
   ]
  },
  {
   "cell_type": "markdown",
   "id": "0cc63366",
   "metadata": {},
   "source": [
    "편향 b는 가중치 w1, w2 와 기능이 다르다.\n",
    "w1과 w2는 각 입력 신호가 결과에 주는 영향력(중요도)을 조절하는 매개변수고,\n",
    "편향은 뉴런이 얼마나 쉽게 활성화(결과로 1을 출력) 하느냐를 조정하는 매개변수다."
   ]
  },
  {
   "cell_type": "code",
   "execution_count": 16,
   "id": "fb184798",
   "metadata": {},
   "outputs": [],
   "source": [
    "def NAND(x1, x2):\n",
    "    x = np.array([x1, x2])\n",
    "    w = np.array([-0.5, -0.5])\n",
    "    b = 0.7\n",
    "    tmp = np.sum(w*x) + b\n",
    "    \n",
    "    if tmp <= 0:\n",
    "        return 0\n",
    "    else:\n",
    "        return 1\n",
    "    \n",
    "def OR(x1, x2):\n",
    "    x = np.array([x1, x2])\n",
    "    w = np.array([0.5, 0.5])\n",
    "    b = -0.2\n",
    "    tmp = np.sum(w*x) + b\n",
    "    \n",
    "    if tmp <= 0:\n",
    "        return 0\n",
    "    else:\n",
    "        return 1"
   ]
  },
  {
   "cell_type": "markdown",
   "id": "7e4e420f",
   "metadata": {},
   "source": [
    "## 퍼셉트론의 한계. XOR 게이트"
   ]
  },
  {
   "cell_type": "markdown",
   "id": "16cc964f",
   "metadata": {},
   "source": [
    "<img src = \"https://encrypted-tbn0.gstatic.com/images?q=tbn:ANd9GcQc_dvOsymrVlpFrCzqzIAmgqTMLBadyc7rrw&usqp=CAU\">"
   ]
  },
  {
   "cell_type": "markdown",
   "id": "440037aa",
   "metadata": {},
   "source": [
    "XOR 게이트는 x1과 x2 중 한쪽이 1일 때만 1을 출력."
   ]
  },
  {
   "cell_type": "markdown",
   "id": "d91b39ce",
   "metadata": {},
   "source": [
    "<img src = 'https://img1.daumcdn.net/thumb/R720x0.q80/?scode=mtistory2&fname=http%3A%2F%2Fcfile9.uf.tistory.com%2Fimage%2F992152485B98A1C7051CAA'>"
   ]
  },
  {
   "cell_type": "markdown",
   "id": "5fce7dff",
   "metadata": {},
   "source": [
    "XOR 게이트를 만족하는 직선은 찾을 수 없다.\n",
    "직선이라는 제약을 없앤다면 곡선으로는 1과 0을 나눌 수 있다."
   ]
  },
  {
   "cell_type": "markdown",
   "id": "7afd5e01",
   "metadata": {},
   "source": [
    "<img src = 'https://encrypted-tbn0.gstatic.com/images?q=tbn:ANd9GcSXABxQ8lvRKFXedeJAcoeiMnMoja_gHgckmLv663Ls6p7jODN__tVuUAZLi0yU_0T3PVM&usqp=CAU'>"
   ]
  },
  {
   "cell_type": "markdown",
   "id": "876bd29b",
   "metadata": {},
   "source": [
    "# 다층 퍼셉트론"
   ]
  },
  {
   "cell_type": "markdown",
   "id": "4337ff82",
   "metadata": {},
   "source": [
    "AND, NAND, OR 게이트를 조합하면 XOR 게이트를 만들 수 있다.\n",
    "<img src = 'https://upload.wikimedia.org/wikipedia/commons/a/a2/254px_3gate_XOR.jpg'>"
   ]
  },
  {
   "cell_type": "markdown",
   "id": "6b449c81",
   "metadata": {},
   "source": [
    "<img src = 'https://miro.medium.com/max/1748/1*qotAsPfK5l0kwynGKB134A.png'>"
   ]
  },
  {
   "cell_type": "code",
   "execution_count": 21,
   "id": "7fb56746",
   "metadata": {},
   "outputs": [],
   "source": [
    "def XOR(x1, x2):\n",
    "    s1 = NAND(x1, x2)\n",
    "    s2 = OR(x1, x2)\n",
    "    y =AND(s1, s2)\n",
    "    return y"
   ]
  },
  {
   "cell_type": "code",
   "execution_count": 22,
   "id": "13f82aea",
   "metadata": {},
   "outputs": [
    {
     "data": {
      "text/plain": [
       "(0, 1, 1, 0)"
      ]
     },
     "execution_count": 22,
     "metadata": {},
     "output_type": "execute_result"
    }
   ],
   "source": [
    "XOR(0, 0), XOR(1, 0), XOR(0, 1), XOR(0, 0)"
   ]
  },
  {
   "cell_type": "markdown",
   "id": "eab8fa2c",
   "metadata": {},
   "source": [
    "XOR 퍼셉트론을 그림으로 표현하면 다음과 같다.\n",
    "\n",
    "<img src = 'https://media.vlpt.us/post-images/dscwinterstudy/754c7c20-3a21-11ea-8734-d1dac55eae87/2-13XOR%EC%9D%98-%ED%8D%BC%EC%85%89%ED%8A%B8%EB%A1%A0.png'>"
   ]
  },
  {
   "cell_type": "markdown",
   "id": "09e84e77",
   "metadata": {},
   "source": [
    "AND, OR가 단층 퍼셉트론인 데 반해, XOR는 2층 퍼셉트론이다.\n",
    "이처럼 층이 여러 개인 퍼셉트론을 다층 퍼셉트론이라 한다."
   ]
  }
 ],
 "metadata": {
  "kernelspec": {
   "display_name": "Python 3",
   "language": "python",
   "name": "python3"
  },
  "language_info": {
   "codemirror_mode": {
    "name": "ipython",
    "version": 3
   },
   "file_extension": ".py",
   "mimetype": "text/x-python",
   "name": "python",
   "nbconvert_exporter": "python",
   "pygments_lexer": "ipython3",
   "version": "3.8.8"
  }
 },
 "nbformat": 4,
 "nbformat_minor": 5
}
