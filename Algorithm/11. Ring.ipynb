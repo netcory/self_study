{
 "cells": [
  {
   "cell_type": "markdown",
   "id": "311dae25",
   "metadata": {},
   "source": [
    "# 문제\n",
    "\n",
    "상근이는 창고에서 링 N개를 발견했다. 상근이는 각각의 링이 앞에 있는 링과 뒤에 있는 링과 접하도록 바닥에 내려놓았다. \n",
    "\n",
    "![ring](https://www.acmicpc.net/upload/images/ring.png)\n",
    "\n",
    "상근이는 첫 번째 링을 돌리기 시작했고, 나머지 링도 같이 돌아간다는 사실을 발견했다. 나머지 링은 첫 번째 링 보다 빠르게 돌아가기도 했고, 느리게 돌아가기도 했다. 이렇게 링을 돌리다 보니 첫 번째 링을 한 바퀴 돌리면, 나머지 링은 몇 바퀴 도는지 궁금해졌다.\n",
    "\n",
    "링의 반지름이 주어진다. 이때, 첫 번째 링을 한 바퀴 돌리면, 나머지 링은 몇 바퀴 돌아가는지 구하는 프로그램을 작성하시오.\n",
    "\n",
    "# 입력\n",
    "\n",
    "첫째 줄에 링의 개수 N이 주어진다. (3 ≤ N ≤ 100)\n",
    "\n",
    "다음 줄에는 링의 반지름이 상근이가 바닥에 놓은 순서대로 주어진다. 반지름은 1과 1000를 포함하는 사이의 자연수이다.\n",
    "\n",
    "# 출력\n",
    "\n",
    "출력은 총 N-1줄을 해야 한다. 첫 번째 링을 제외한 각각의 링에 대해서, 첫 번째 링을 한 바퀴 돌리면 그 링은 몇 바퀴 도는지 기약 분수 형태 A/B로 출력한다.\n",
    "\n",
    "# 예제 입력1\n",
    "\n",
    "4\n",
    "\n",
    "12 3 8 4\n",
    "\n",
    "# 예제 출력\n",
    "\n",
    "4/1\n",
    "3/2\n",
    "3/1"
   ]
  },
  {
   "cell_type": "code",
   "execution_count": 28,
   "id": "5545f8b4",
   "metadata": {},
   "outputs": [],
   "source": [
    "from fractions import Fraction"
   ]
  },
  {
   "cell_type": "code",
   "execution_count": 48,
   "id": "7395fe9d",
   "metadata": {},
   "outputs": [],
   "source": [
    "def ring():\n",
    "    \n",
    "    radius = []\n",
    "    rotate = []\n",
    "    total = int(input(\"링의 개수를 입력하세요: \"))\n",
    "    \n",
    "    for i in range(total):\n",
    "        r = int(input(\"링들의 반지름을 입력해주세요: \"))\n",
    "        radius.append(r)\n",
    "    \n",
    "    for j in range(len(radius)):\n",
    "        if j == len(radius) - 1:\n",
    "            break\n",
    "        else:\n",
    "            a = Fraction(radius[0], radius[j + 1])\n",
    "            b = str(a.numerator) + '/' + str(a.denominator)\n",
    "            print(b, end=' ')"
   ]
  },
  {
   "cell_type": "code",
   "execution_count": 50,
   "id": "cfd083db",
   "metadata": {},
   "outputs": [
    {
     "name": "stdout",
     "output_type": "stream",
     "text": [
      "링의 개수를 입력하세요: 4\n",
      "링들의 반지름을 입력해주세요: 12\n",
      "링들의 반지름을 입력해주세요: 3\n",
      "링들의 반지름을 입력해주세요: 8\n",
      "링들의 반지름을 입력해주세요: 4\n",
      "4/1 3/2 3/1 "
     ]
    }
   ],
   "source": [
    "ring()"
   ]
  }
 ],
 "metadata": {
  "kernelspec": {
   "display_name": "Python 3",
   "language": "python",
   "name": "python3"
  },
  "language_info": {
   "codemirror_mode": {
    "name": "ipython",
    "version": 3
   },
   "file_extension": ".py",
   "mimetype": "text/x-python",
   "name": "python",
   "nbconvert_exporter": "python",
   "pygments_lexer": "ipython3",
   "version": "3.8.8"
  }
 },
 "nbformat": 4,
 "nbformat_minor": 5
}
