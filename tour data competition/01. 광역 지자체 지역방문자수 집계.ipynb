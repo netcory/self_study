{
 "cells": [
  {
   "cell_type": "code",
   "execution_count": 23,
   "id": "d9125f52",
   "metadata": {},
   "outputs": [],
   "source": [
    "import requests\n",
    "import json\n",
    "\n",
    "base_url = 'http://api.visitkorea.or.kr/openapi/service/rest/DataLabService/locgoRegnVisitrDDList'\n",
    "\n",
    "params = {\n",
    "    'numOfRows' : 50,\n",
    "    'pageNo' : 1,\n",
    "    'MobileOS' : 'ETC',\n",
    "    'MobileApp' : 'AppTest',\n",
    "    'ServiceKey' : 'Jao1UNIW4iVUNm4t7cj/HkQM7fFySVVaSMH5AG4hBFd8ZEHMAC6BOGM+Rzo5sjDmxObriitg865SzMXK98TmQQ==',\n",
    "    'startYmd' : '20210401',\n",
    "    'endYmd' : '20210616',\n",
    "    '_type' : 'json'\n",
    "}"
   ]
  },
  {
   "cell_type": "code",
   "execution_count": 24,
   "id": "dc51bcb7",
   "metadata": {},
   "outputs": [],
   "source": [
    "resp = requests.get(base_url, params = params)"
   ]
  },
  {
   "cell_type": "code",
   "execution_count": 25,
   "id": "5c0c085d",
   "metadata": {},
   "outputs": [
    {
     "data": {
      "text/plain": [
       "<Response [200]>"
      ]
     },
     "execution_count": 25,
     "metadata": {},
     "output_type": "execute_result"
    }
   ],
   "source": [
    "resp"
   ]
  },
  {
   "cell_type": "code",
   "execution_count": 26,
   "id": "616c23b7",
   "metadata": {},
   "outputs": [
    {
     "data": {
      "text/plain": [
       "'{\"response\":{\"header\":{\"resultCode\":\"0000\",\"resultMsg\":\"OK\"},\"body\":{\"items\":{\"item\":[{\"baseYmd\":20210426,\"daywkDivCd\":1,\"daywkDivNm\":\"월요일\",\"signguCode\":28260,\"signguNm\":\"서구\",\"touDivCd\":2,\"touDivNm\":\"외지인(b)\",\"touNum\":118919.5},{\"baseYmd\":20210426,\"daywkDivCd\":1,\"daywkDivNm\":\"월요일\",\"signguCode\":28260,\"signguNm\":\"서구\",\"touDivCd\":3,\"touDivNm\":\"외국인(c)\",\"touNum\":139.5326171},{\"baseYmd\":20210426,\"daywkDivCd\":1,\"daywkDivNm\":\"월요일\",\"signguCode\":28710,\"signguNm\":\"강화군\",\"touDivCd\":1,\"touDivNm\":\"현지인(a)\",\"touNum\":49245},{\"baseYmd\":20210426,\"daywkDivCd\":1,\"daywkDivNm\":\"월요일\",\"signguCode\":28710,\"signguNm\":\"강화군\",\"touDivCd\":2,\"touDivNm\":\"외지인(b)\",\"touNum\":31563},{\"baseYmd\":20210426,\"daywkDivCd\":1,\"daywkDivNm\":\"월요일\",\"signguCode\":28710,\"signguNm\":\"강화군\",\"touDivCd\":3,\"touDivNm\":\"외국인(c)\",\"touNum\":53.36782609},{\"baseYmd\":20210426,\"daywkDivCd\":1,\"daywkDivNm\":\"월요일\",\"signguCode\":28720,\"signguNm\":\"옹진군\",\"touDivCd\":1,\"touDivNm\":\"현지인(a)\",\"touNum\":9306.5},{\"baseYmd\":20210426,\"daywkDivCd\":1,\"daywkDivNm\":\"월요일\",\"signguCode\":28720,\"signguNm\":\"옹진군\",\"touDivCd\":2,\"touDivNm\":\"외지인(b)\",\"touNum\":12736.5},{\"baseYmd\":20210426,\"daywkDivCd\":1,\"daywkDivNm\":\"월요일\",\"signguCode\":28720,\"signguNm\":\"옹진군\",\"touDivCd\":3,\"touDivNm\":\"외국인(c)\",\"touNum\":746.5941294},{\"baseYmd\":20210426,\"daywkDivCd\":1,\"daywkDivNm\":\"월요일\",\"signguCode\":29110,\"signguNm\":\"동구\",\"touDivCd\":1,\"touDivNm\":\"현지인(a)\",\"touNum\":69111},{\"baseYmd\":20210426,\"daywkDivCd\":1,\"daywkDivNm\":\"월요일\",\"signguCode\":29110,\"signguNm\":\"동구\",\"touDivCd\":2,\"touDivNm\":\"외지인(b)\",\"touNum\":83891.5},{\"baseYmd\":20210426,\"daywkDivCd\":1,\"daywkDivNm\":\"월요일\",\"signguCode\":29110,\"signguNm\":\"동구\",\"touDivCd\":3,\"touDivNm\":\"외국인(c)\",\"touNum\":27.286},{\"baseYmd\":20210426,\"daywkDivCd\":1,\"daywkDivNm\":\"월요일\",\"signguCode\":29140,\"signguNm\":\"서구\",\"touDivCd\":1,\"touDivNm\":\"현지인(a)\",\"touNum\":177320.5},{\"baseYmd\":20210426,\"daywkDivCd\":1,\"daywkDivNm\":\"월요일\",\"signguCode\":29140,\"signguNm\":\"서구\",\"touDivCd\":2,\"touDivNm\":\"외지인(b)\",\"touNum\":109945.5},{\"baseYmd\":20210426,\"daywkDivCd\":1,\"daywkDivNm\":\"월요일\",\"signguCode\":29140,\"signguNm\":\"서구\",\"touDivCd\":3,\"touDivNm\":\"외국인(c)\",\"touNum\":57.90357357},{\"baseYmd\":20210426,\"daywkDivCd\":1,\"daywkDivNm\":\"월요일\",\"signguCode\":29155,\"signguNm\":\"남구\",\"touDivCd\":1,\"touDivNm\":\"현지인(a)\",\"touNum\":102403},{\"baseYmd\":20210426,\"daywkDivCd\":1,\"daywkDivNm\":\"월요일\",\"signguCode\":29155,\"signguNm\":\"남구\",\"touDivCd\":2,\"touDivNm\":\"외지인(b)\",\"touNum\":52636.5},{\"baseYmd\":20210426,\"daywkDivCd\":1,\"daywkDivNm\":\"월요일\",\"signguCode\":29155,\"signguNm\":\"남구\",\"touDivCd\":3,\"touDivNm\":\"외국인(c)\",\"touNum\":10.325},{\"baseYmd\":20210426,\"daywkDivCd\":1,\"daywkDivNm\":\"월요일\",\"signguCode\":29170,\"signguNm\":\"북구\",\"touDivCd\":1,\"touDivNm\":\"현지인(a)\",\"touNum\":251730.5},{\"baseYmd\":20210426,\"daywkDivCd\":1,\"daywkDivNm\":\"월요일\",\"signguCode\":29170,\"signguNm\":\"북구\",\"touDivCd\":2,\"touDivNm\":\"외지인(b)\",\"touNum\":108451},{\"baseYmd\":20210426,\"daywkDivCd\":1,\"daywkDivNm\":\"월요일\",\"signguCode\":29170,\"signguNm\":\"북구\",\"touDivCd\":3,\"touDivNm\":\"외국인(c)\",\"touNum\":37.05202073},{\"baseYmd\":20210426,\"daywkDivCd\":1,\"daywkDivNm\":\"월요일\",\"signguCode\":29200,\"signguNm\":\"광산구\",\"touDivCd\":1,\"touDivNm\":\"현지인(a)\",\"touNum\":235459},{\"baseYmd\":20210426,\"daywkDivCd\":1,\"daywkDivNm\":\"월요일\",\"signguCode\":29200,\"signguNm\":\"광산구\",\"touDivCd\":2,\"touDivNm\":\"외지인(b)\",\"touNum\":103299},{\"baseYmd\":20210426,\"daywkDivCd\":1,\"daywkDivNm\":\"월요일\",\"signguCode\":29200,\"signguNm\":\"광산구\",\"touDivCd\":3,\"touDivNm\":\"외국인(c)\",\"touNum\":71.25962766},{\"baseYmd\":20210426,\"daywkDivCd\":1,\"daywkDivNm\":\"월요일\",\"signguCode\":30110,\"signguNm\":\"동구\",\"touDivCd\":1,\"touDivNm\":\"현지인(a)\",\"touNum\":103446},{\"baseYmd\":20210426,\"daywkDivCd\":1,\"daywkDivNm\":\"월요일\",\"signguCode\":30110,\"signguNm\":\"동구\",\"touDivCd\":2,\"touDivNm\":\"외지인(b)\",\"touNum\":72159.5},{\"baseYmd\":20210426,\"daywkDivCd\":1,\"daywkDivNm\":\"월요일\",\"signguCode\":30110,\"signguNm\":\"동구\",\"touDivCd\":3,\"touDivNm\":\"외국인(c)\",\"touNum\":55.76665882},{\"baseYmd\":20210426,\"daywkDivCd\":1,\"daywkDivNm\":\"월요일\",\"signguCode\":30140,\"signguNm\":\"중구\",\"touDivCd\":1,\"touDivNm\":\"현지인(a)\",\"touNum\":120823.5},{\"baseYmd\":20210426,\"daywkDivCd\":1,\"daywkDivNm\":\"월요일\",\"signguCode\":30140,\"signguNm\":\"중구\",\"touDivCd\":2,\"touDivNm\":\"외지인(b)\",\"touNum\":90030.5},{\"baseYmd\":20210426,\"daywkDivCd\":1,\"daywkDivNm\":\"월요일\",\"signguCode\":30140,\"signguNm\":\"중구\",\"touDivCd\":3,\"touDivNm\":\"외국인(c)\",\"touNum\":19.8544},{\"baseYmd\":20210426,\"daywkDivCd\":1,\"daywkDivNm\":\"월요일\",\"signguCode\":30170,\"signguNm\":\"서구\",\"touDivCd\":1,\"touDivNm\":\"현지인(a)\",\"touNum\":253326.5},{\"baseYmd\":20210426,\"daywkDivCd\":1,\"daywkDivNm\":\"월요일\",\"signguCode\":30170,\"signguNm\":\"서구\",\"touDivCd\":2,\"touDivNm\":\"외지인(b)\",\"touNum\":128971.5},{\"baseYmd\":20210426,\"daywkDivCd\":1,\"daywkDivNm\":\"월요일\",\"signguCode\":30170,\"signguNm\":\"서구\",\"touDivCd\":3,\"touDivNm\":\"외국인(c)\",\"touNum\":28.88272727},{\"baseYmd\":20210426,\"daywkDivCd\":1,\"daywkDivNm\":\"월요일\",\"signguCode\":30200,\"signguNm\":\"유성구\",\"touDivCd\":1,\"touDivNm\":\"현지인(a)\",\"touNum\":208022.5},{\"baseYmd\":20210426,\"daywkDivCd\":1,\"daywkDivNm\":\"월요일\",\"signguCode\":30200,\"signguNm\":\"유성구\",\"touDivCd\":2,\"touDivNm\":\"외지인(b)\",\"touNum\":119427},{\"baseYmd\":20210426,\"daywkDivCd\":1,\"daywkDivNm\":\"월요일\",\"signguCode\":30200,\"signguNm\":\"유성구\",\"touDivCd\":3,\"touDivNm\":\"외국인(c)\",\"touNum\":65.17456221},{\"baseYmd\":20210426,\"daywkDivCd\":1,\"daywkDivNm\":\"월요일\",\"signguCode\":30230,\"signguNm\":\"대덕구\",\"touDivCd\":1,\"touDivNm\":\"현지인(a)\",\"touNum\":82859},{\"baseYmd\":20210426,\"daywkDivCd\":1,\"daywkDivNm\":\"월요일\",\"signguCode\":30230,\"signguNm\":\"대덕구\",\"touDivCd\":2,\"touDivNm\":\"외지인(b)\",\"touNum\":59678.5},{\"baseYmd\":20210426,\"daywkDivCd\":1,\"daywkDivNm\":\"월요일\",\"signguCode\":30230,\"signguNm\":\"대덕구\",\"touDivCd\":3,\"touDivNm\":\"외국인(c)\",\"touNum\":35.88875},{\"baseYmd\":20210426,\"daywkDivCd\":1,\"daywkDivNm\":\"월요일\",\"signguCode\":31110,\"signguNm\":\"중구\",\"touDivCd\":1,\"touDivNm\":\"현지인(a)\",\"touNum\":106897},{\"baseYmd\":20210426,\"daywkDivCd\":1,\"daywkDivNm\":\"월요일\",\"signguCode\":31110,\"signguNm\":\"중구\",\"touDivCd\":2,\"touDivNm\":\"외지인(b)\",\"touNum\":59132.5},{\"baseYmd\":20210426,\"daywkDivCd\":1,\"daywkDivNm\":\"월요일\",\"signguCode\":31110,\"signguNm\":\"중구\",\"touDivCd\":3,\"touDivNm\":\"외국인(c)\",\"touNum\":54.89653409},{\"baseYmd\":20210426,\"daywkDivCd\":1,\"daywkDivNm\":\"월요일\",\"signguCode\":31140,\"signguNm\":\"남구\",\"touDivCd\":1,\"touDivNm\":\"현지인(a)\",\"touNum\":180768},{\"baseYmd\":20210426,\"daywkDivCd\":1,\"daywkDivNm\":\"월요일\",\"signguCode\":31140,\"signguNm\":\"남구\",\"touDivCd\":2,\"touDivNm\":\"외지인(b)\",\"touNum\":95245.5},{\"baseYmd\":20210426,\"daywkDivCd\":1,\"daywkDivNm\":\"월요일\",\"signguCode\":31140,\"signguNm\":\"남구\",\"touDivCd\":3,\"touDivNm\":\"외국인(c)\",\"touNum\":235.9188032},{\"baseYmd\":20210426,\"daywkDivCd\":1,\"daywkDivNm\":\"월요일\",\"signguCode\":31170,\"signguNm\":\"동구\",\"touDivCd\":1,\"touDivNm\":\"현지인(a)\",\"touNum\":81287.5},{\"baseYmd\":20210426,\"daywkDivCd\":1,\"daywkDivNm\":\"월요일\",\"signguCode\":31170,\"signguNm\":\"동구\",\"touDivCd\":2,\"touDivNm\":\"외지인(b)\",\"touNum\":27947.5},{\"baseYmd\":20210426,\"daywkDivCd\":1,\"daywkDivNm\":\"월요일\",\"signguCode\":31170,\"signguNm\":\"동구\",\"touDivCd\":3,\"touDivNm\":\"외국인(c)\",\"touNum\":207.6088866},{\"baseYmd\":20210426,\"daywkDivCd\":1,\"daywkDivNm\":\"월요일\",\"signguCode\":31200,\"signguNm\":\"북구\",\"touDivCd\":1,\"touDivNm\":\"현지인(a)\",\"touNum\":93236.5},{\"baseYmd\":20210426,\"daywkDivCd\":1,\"daywkDivNm\":\"월요일\",\"signguCode\":31200,\"signguNm\":\"북구\",\"touDivCd\":2,\"touDivNm\":\"외지인(b)\",\"touNum\":48604.5},{\"baseYmd\":20210426,\"daywkDivCd\":1,\"daywkDivNm\":\"월요일\",\"signguCode\":31200,\"signguNm\":\"북구\",\"touDivCd\":3,\"touDivNm\":\"외국인(c)\",\"touNum\":785.5776119}]},\"numOfRows\":50,\"pageNo\":1,\"totalCount\":31049}}}'"
      ]
     },
     "execution_count": 26,
     "metadata": {},
     "output_type": "execute_result"
    }
   ],
   "source": [
    "resp.text"
   ]
  },
  {
   "cell_type": "code",
   "execution_count": 22,
   "id": "546b1ace",
   "metadata": {},
   "outputs": [
    {
     "data": {
      "text/plain": [
       "{'response': {'header': {'resultCode': '0000', 'resultMsg': 'OK'},\n",
       "  'body': {'items': '', 'numOfRows': 50, 'pageNo': 1, 'totalCount': 0}}}"
      ]
     },
     "execution_count": 22,
     "metadata": {},
     "output_type": "execute_result"
    }
   ],
   "source": [
    "data = resp.json()\n",
    "data"
   ]
  },
  {
   "cell_type": "code",
   "execution_count": 10,
   "id": "d30beb74",
   "metadata": {},
   "outputs": [
    {
     "ename": "KeyError",
     "evalue": "'body'",
     "output_type": "error",
     "traceback": [
      "\u001b[1;31m---------------------------------------------------------------------------\u001b[0m",
      "\u001b[1;31mKeyError\u001b[0m                                  Traceback (most recent call last)",
      "\u001b[1;32m<ipython-input-10-96a588429e0b>\u001b[0m in \u001b[0;36m<module>\u001b[1;34m\u001b[0m\n\u001b[1;32m----> 1\u001b[1;33m \u001b[0mdata\u001b[0m\u001b[1;33m[\u001b[0m\u001b[1;34m'body'\u001b[0m\u001b[1;33m]\u001b[0m\u001b[1;33m\u001b[0m\u001b[1;33m\u001b[0m\u001b[0m\n\u001b[0m",
      "\u001b[1;31mKeyError\u001b[0m: 'body'"
     ]
    }
   ],
   "source": [
    "data['body']"
   ]
  },
  {
   "cell_type": "code",
   "execution_count": null,
   "id": "0cb199b9",
   "metadata": {},
   "outputs": [],
   "source": [
    "import requests\n",
    "import json\n",
    "\n",
    "base_url = 'http://api.visitkorea.or.kr/openapi/service/rest/DataLabService/metcoRegnVisitrDDList'\n",
    "\n",
    "params = {\n",
    "    'numOfRows' : '20',\n",
    "    'pageNo' : '10',\n",
    "    'MobileOS' : 'ETC',\n",
    "    'MobileApp' : 'AppTest',\n",
    "    'ServiceKey' : 'Jao1UNIW4iVUNm4t7cj/HkQM7fFySVVaSMH5AG4hBFd8ZEHMAC6BOGM+Rzo5sjDmxObriitg865SzMXK98TmQQ==',\n",
    "    'startYmd' : '20190101',\n",
    "    'endYmd' : '20210531',\n",
    "    '_type' : 'json'\n",
    "}\n",
    "\n",
    "while "
   ]
  },
  {
   "cell_type": "code",
   "execution_count": null,
   "id": "cbecb425",
   "metadata": {},
   "outputs": [],
   "source": []
  },
  {
   "cell_type": "code",
   "execution_count": 46,
   "id": "70710af9",
   "metadata": {},
   "outputs": [
    {
     "data": {
      "text/plain": [
       "{'name': 'Liam', 'weight': 69}"
      ]
     },
     "execution_count": 46,
     "metadata": {},
     "output_type": "execute_result"
    }
   ],
   "source": [
    "a = {'name' : 'Liam',\n",
    "    'weight' : 69}\n",
    "a"
   ]
  },
  {
   "cell_type": "code",
   "execution_count": 47,
   "id": "f0939eb6",
   "metadata": {},
   "outputs": [
    {
     "data": {
      "text/plain": [
       "'Liam'"
      ]
     },
     "execution_count": 47,
     "metadata": {},
     "output_type": "execute_result"
    }
   ],
   "source": [
    "a['name']"
   ]
  },
  {
   "cell_type": "code",
   "execution_count": 48,
   "id": "ca5ee663",
   "metadata": {},
   "outputs": [
    {
     "data": {
      "text/plain": [
       "69"
      ]
     },
     "execution_count": 48,
     "metadata": {},
     "output_type": "execute_result"
    }
   ],
   "source": [
    "a['weight']"
   ]
  },
  {
   "cell_type": "code",
   "execution_count": null,
   "id": "d10e949f",
   "metadata": {},
   "outputs": [],
   "source": []
  },
  {
   "cell_type": "code",
   "execution_count": null,
   "id": "6906f795",
   "metadata": {},
   "outputs": [],
   "source": []
  },
  {
   "cell_type": "code",
   "execution_count": null,
   "id": "e1c1c1d1",
   "metadata": {},
   "outputs": [],
   "source": []
  },
  {
   "cell_type": "code",
   "execution_count": null,
   "id": "07483803",
   "metadata": {},
   "outputs": [],
   "source": []
  },
  {
   "cell_type": "code",
   "execution_count": null,
   "id": "8d775743",
   "metadata": {},
   "outputs": [],
   "source": []
  },
  {
   "cell_type": "code",
   "execution_count": null,
   "id": "9615867e",
   "metadata": {},
   "outputs": [],
   "source": []
  },
  {
   "cell_type": "code",
   "execution_count": null,
   "id": "ccfc07e4",
   "metadata": {},
   "outputs": [],
   "source": []
  },
  {
   "cell_type": "code",
   "execution_count": null,
   "id": "7d036ba4",
   "metadata": {},
   "outputs": [],
   "source": []
  },
  {
   "cell_type": "code",
   "execution_count": null,
   "id": "f666acab",
   "metadata": {},
   "outputs": [],
   "source": []
  },
  {
   "cell_type": "code",
   "execution_count": null,
   "id": "a4f2a012",
   "metadata": {},
   "outputs": [],
   "source": []
  },
  {
   "cell_type": "code",
   "execution_count": null,
   "id": "44a03be6",
   "metadata": {},
   "outputs": [],
   "source": []
  }
 ],
 "metadata": {
  "kernelspec": {
   "display_name": "Python 3",
   "language": "python",
   "name": "python3"
  },
  "language_info": {
   "codemirror_mode": {
    "name": "ipython",
    "version": 3
   },
   "file_extension": ".py",
   "mimetype": "text/x-python",
   "name": "python",
   "nbconvert_exporter": "python",
   "pygments_lexer": "ipython3",
   "version": "3.8.8"
  }
 },
 "nbformat": 4,
 "nbformat_minor": 5
}
