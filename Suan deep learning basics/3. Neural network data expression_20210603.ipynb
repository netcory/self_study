{
 "cells": [
  {
   "cell_type": "code",
   "execution_count": 1,
   "id": "4e19f74f",
   "metadata": {},
   "outputs": [],
   "source": [
    "import numpy as np\n",
    "import matplotlib.pyplot as plt\n",
    "plt.style.use(['seaborn-whitegrid'])"
   ]
  },
  {
   "cell_type": "markdown",
   "id": "23402d69",
   "metadata": {},
   "source": [
    "# 텐서(Tensor)\n",
    "\n",
    "### 일반적으로 텐서는 3차원 이상을 다룰 때 표현하는 방식이지만,\n",
    "### 여기서는 어떠한 데이터를 표현할 대, 그 값 모두를 텐서라고 부르기로 함"
   ]
  },
  {
   "cell_type": "code",
   "execution_count": 3,
   "id": "8f9ac5dc",
   "metadata": {},
   "outputs": [],
   "source": [
    "a = np.array([1, 2])\n",
    "b = np.array([[1, 2],\n",
    "            [3, 4]])\n",
    "c = np.array([10])\n",
    "d = np.array(3)"
   ]
  },
  {
   "cell_type": "markdown",
   "id": "df002667",
   "metadata": {},
   "source": [
    "### a, b, c, d 모두 텐서라고 지칭할 수 있음"
   ]
  },
  {
   "cell_type": "markdown",
   "id": "97731f56",
   "metadata": {},
   "source": [
    "### - 랭크(rank): 텐서의 축을 나타내고, 넘파이(numpy)의 ndim으로 구할 수 있음"
   ]
  },
  {
   "cell_type": "code",
   "execution_count": 8,
   "id": "ecfc9a77",
   "metadata": {},
   "outputs": [
    {
     "data": {
      "text/plain": [
       "1"
      ]
     },
     "execution_count": 8,
     "metadata": {},
     "output_type": "execute_result"
    }
   ],
   "source": [
    "a = np.array([1, 2])\n",
    "a.ndim"
   ]
  },
  {
   "cell_type": "code",
   "execution_count": 11,
   "id": "b4450e83",
   "metadata": {},
   "outputs": [
    {
     "data": {
      "text/plain": [
       "2"
      ]
     },
     "execution_count": 11,
     "metadata": {},
     "output_type": "execute_result"
    }
   ],
   "source": [
    "b = np.array([[1, 2], [3, 4]])\n",
    "b.ndim"
   ]
  },
  {
   "cell_type": "code",
   "execution_count": 12,
   "id": "7d50a101",
   "metadata": {},
   "outputs": [
    {
     "data": {
      "text/plain": [
       "0"
      ]
     },
     "execution_count": 12,
     "metadata": {},
     "output_type": "execute_result"
    }
   ],
   "source": [
    "d = np.array(3)\n",
    "d.ndim"
   ]
  },
  {
   "cell_type": "markdown",
   "id": "09fd208d",
   "metadata": {},
   "source": [
    "# 스칼라(0차원 텐서)\n",
    "### - 하나의 숫자를 담고 있는 텐서\n",
    "### - 형상은 없음"
   ]
  },
  {
   "cell_type": "code",
   "execution_count": 14,
   "id": "7287d586",
   "metadata": {},
   "outputs": [
    {
     "name": "stdout",
     "output_type": "stream",
     "text": [
      "3\n",
      "()\n",
      "0\n"
     ]
    }
   ],
   "source": [
    "x = np.array(3)\n",
    "print(x)\n",
    "print(x.shape)\n",
    "print(np.ndim(x))"
   ]
  },
  {
   "cell_type": "markdown",
   "id": "47b6c77b",
   "metadata": {},
   "source": [
    "# 벡터(1차원 텐서)\n",
    "### - 숫자의 배열을 나타내는 텐서"
   ]
  },
  {
   "cell_type": "code",
   "execution_count": 15,
   "id": "4ef40383",
   "metadata": {},
   "outputs": [
    {
     "name": "stdout",
     "output_type": "stream",
     "text": [
      "[1 2 3 4]\n",
      "(4,)\n",
      "1\n"
     ]
    }
   ],
   "source": [
    "x = np.array([1, 2, 3, 4])\n",
    "print(x)\n",
    "print(x.shape)\n",
    "print(np.ndim(x))"
   ]
  },
  {
   "cell_type": "markdown",
   "id": "bd19cbdb",
   "metadata": {},
   "source": [
    "# 벡터의 합\n",
    "### - 같은 형상(shape)일 때, 각 원소별로 계산"
   ]
  },
  {
   "cell_type": "code",
   "execution_count": 16,
   "id": "b2f304c5",
   "metadata": {},
   "outputs": [
    {
     "name": "stdout",
     "output_type": "stream",
     "text": [
      "[ 6  8 10 12]\n",
      "(4,)\n",
      "1\n"
     ]
    }
   ],
   "source": [
    "a = np.array([1, 2, 3, 4])\n",
    "b = np.array([5, 6, 7, 8])\n",
    "c = a + b\n",
    "\n",
    "print(c)\n",
    "print(c.shape)\n",
    "print(np.ndim(c))"
   ]
  },
  {
   "cell_type": "markdown",
   "id": "3bd817d8",
   "metadata": {},
   "source": [
    "# 벡터의 곱\n",
    "## A = (x1, x2, x3, ..., xn), B = (y1, y2, y3,...,yn) 일 때\n",
    "### 원소곱\n",
    "### - 같은 형상(shape)일 대, 각 원소별로 계산\n",
    "### A X B  = (x1y1, x2y2, x3y3,...,xnyn)\n",
    "### 벡터곱 (product, dot)\n",
    "### - 두 1차원 벡터가 있을 때 각각의 성분끼리의 곱을 모두 더하는 계산\n",
    "### A X B(transpose) = (x1y1 + x2y2 + x3y3 + ... + xnyn)"
   ]
  },
  {
   "cell_type": "code",
   "execution_count": 17,
   "id": "1ec8a83c",
   "metadata": {},
   "outputs": [
    {
     "name": "stdout",
     "output_type": "stream",
     "text": [
      "[ 5 12 21 32]\n",
      "(4,)\n",
      "1\n",
      "-----------------------\n",
      "4\n",
      "()\n",
      "0\n"
     ]
    }
   ],
   "source": [
    "a = np.array([1, 2, 3, 4])\n",
    "b = np.array([5, 6, 7, 8])\n",
    "c = a * b\n",
    "print(c)\n",
    "print(c.shape)\n",
    "print(np.ndim(c))\n",
    "print(\"-----------------------\")\n",
    "\n",
    "x = np.array([1, 2, 0])\n",
    "y = np.array([0, 2, 1])\n",
    "z = np.dot(x, y)\n",
    "print(z)\n",
    "print(z.shape)\n",
    "print(np.ndim(z))"
   ]
  },
  {
   "cell_type": "markdown",
   "id": "fbfbf3a9",
   "metadata": {},
   "source": [
    "# 스칼라와 벡터의 곱"
   ]
  },
  {
   "cell_type": "code",
   "execution_count": 18,
   "id": "9d2d9b07",
   "metadata": {},
   "outputs": [
    {
     "name": "stdout",
     "output_type": "stream",
     "text": [
      "[10 20 30]\n"
     ]
    }
   ],
   "source": [
    "a = np.array(10)\n",
    "b = np.array([1, 2, 3])\n",
    "print(a * b)"
   ]
  },
  {
   "cell_type": "markdown",
   "id": "992cdf04",
   "metadata": {},
   "source": [
    "# 2차원 텐서(행렬)\n",
    "### - 2차원 텐서는 행렬로 생각할 수 있음\n",
    "#### (m, n) 형상의 배열"
   ]
  },
  {
   "cell_type": "code",
   "execution_count": 22,
   "id": "300db0f7",
   "metadata": {},
   "outputs": [
    {
     "name": "stdout",
     "output_type": "stream",
     "text": [
      "[[1 2 3]\n",
      " [4 5 6]]\n",
      "(2, 3)\n",
      "2\n",
      "----------------\n",
      "[[1 2 3 4]]\n",
      "(1, 4)\n",
      "2\n"
     ]
    }
   ],
   "source": [
    "matrix = np.array([[1, 2, 3],\n",
    "                 [4, 5, 6]])\n",
    "print(matrix)\n",
    "print(matrix.shape)\n",
    "print(np.ndim(matrix))\n",
    "print(\"----------------\")\n",
    "matrix2 = np.array([[1, 2, 3, 4]])\n",
    "print(matrix2)\n",
    "print(matrix2.shape)\n",
    "print(np.ndim(matrix2))"
   ]
  },
  {
   "cell_type": "markdown",
   "id": "5eb89335",
   "metadata": {},
   "source": [
    "# 행렬 원소곱\n",
    "### - 같은 형상(shape)일 때 덧셈, 곱셈과 같은 연산은 원소별로 진행"
   ]
  },
  {
   "cell_type": "code",
   "execution_count": 23,
   "id": "a8f8636b",
   "metadata": {},
   "outputs": [
    {
     "name": "stdout",
     "output_type": "stream",
     "text": [
      "행렬 A\n",
      " [[1 2]\n",
      " [3 4]]\n",
      "행렬 B\n",
      " [[10 10]\n",
      " [10 10]]\n",
      "A * B\n",
      " [[10 20]\n",
      " [30 40]]\n"
     ]
    }
   ],
   "source": [
    "A = np.array([[1, 2], [3, 4]])\n",
    "B = np.array([[10, 10], [10, 10]])\n",
    "\n",
    "print(\"행렬 A\\n\", A)\n",
    "print(\"행렬 B\\n\", B)\n",
    "print(\"A * B\\n\", A * B)"
   ]
  },
  {
   "cell_type": "markdown",
   "id": "c79c9912",
   "metadata": {},
   "source": [
    "# 행렬 점곱(내적, product)\n",
    "### - 1차원 벡터와 마찬가지로 앞 행렬의 열과 뒤 행렬의 행의 수가 같아야 함"
   ]
  },
  {
   "cell_type": "code",
   "execution_count": 25,
   "id": "bd08de17",
   "metadata": {},
   "outputs": [
    {
     "name": "stdout",
     "output_type": "stream",
     "text": [
      "행렬 M\n",
      " [[1 2]\n",
      " [3 4]]\n",
      "행렬 N\n",
      " [[2 3 4]\n",
      " [2 3 4]]\n",
      "행렬 L\n",
      " [[ 6  9 12]\n",
      " [14 21 28]]\n",
      "(2, 3)\n",
      "2\n"
     ]
    }
   ],
   "source": [
    "M = np.array([[1, 2], [3, 4]])\n",
    "N = np.array([[2, 3, 4], [2, 3, 4]])\n",
    "print(\"행렬 M\\n\", M)\n",
    "print(\"행렬 N\\n\", N)\n",
    "L = np.dot(M, N)\n",
    "print(\"행렬 L\\n\", L)\n",
    "print(L.shape)\n",
    "print(np.ndim(L))"
   ]
  },
  {
   "cell_type": "code",
   "execution_count": 26,
   "id": "c31df170",
   "metadata": {},
   "outputs": [
    {
     "ename": "ValueError",
     "evalue": "shapes (3,1) and (3,1) not aligned: 1 (dim 1) != 3 (dim 0)",
     "output_type": "error",
     "traceback": [
      "\u001b[1;31m---------------------------------------------------------------------------\u001b[0m",
      "\u001b[1;31mValueError\u001b[0m                                Traceback (most recent call last)",
      "\u001b[1;32m<ipython-input-26-7847723b520b>\u001b[0m in \u001b[0;36m<module>\u001b[1;34m\u001b[0m\n\u001b[0;32m      2\u001b[0m \u001b[0mn\u001b[0m \u001b[1;33m=\u001b[0m \u001b[0mnp\u001b[0m\u001b[1;33m.\u001b[0m\u001b[0marray\u001b[0m\u001b[1;33m(\u001b[0m\u001b[1;33m[\u001b[0m\u001b[1;33m[\u001b[0m\u001b[1;36m1\u001b[0m\u001b[1;33m]\u001b[0m\u001b[1;33m,\u001b[0m \u001b[1;33m[\u001b[0m\u001b[1;36m2\u001b[0m\u001b[1;33m]\u001b[0m\u001b[1;33m,\u001b[0m \u001b[1;33m[\u001b[0m\u001b[1;36m3\u001b[0m\u001b[1;33m]\u001b[0m\u001b[1;33m]\u001b[0m\u001b[1;33m)\u001b[0m \u001b[1;31m# 3 X 1 행렬\u001b[0m\u001b[1;33m\u001b[0m\u001b[1;33m\u001b[0m\u001b[0m\n\u001b[0;32m      3\u001b[0m \u001b[1;33m\u001b[0m\u001b[0m\n\u001b[1;32m----> 4\u001b[1;33m \u001b[0ml\u001b[0m \u001b[1;33m=\u001b[0m \u001b[0mnp\u001b[0m\u001b[1;33m.\u001b[0m\u001b[0mdot\u001b[0m\u001b[1;33m(\u001b[0m\u001b[0mm\u001b[0m\u001b[1;33m,\u001b[0m \u001b[0mn\u001b[0m\u001b[1;33m)\u001b[0m \u001b[1;31m# 에러 발생\u001b[0m\u001b[1;33m\u001b[0m\u001b[1;33m\u001b[0m\u001b[0m\n\u001b[0m\u001b[0;32m      5\u001b[0m \u001b[1;33m\u001b[0m\u001b[0m\n\u001b[0;32m      6\u001b[0m \u001b[0mprint\u001b[0m\u001b[1;33m(\u001b[0m\u001b[0ml\u001b[0m\u001b[1;33m)\u001b[0m\u001b[1;33m\u001b[0m\u001b[1;33m\u001b[0m\u001b[0m\n",
      "\u001b[1;32m<__array_function__ internals>\u001b[0m in \u001b[0;36mdot\u001b[1;34m(*args, **kwargs)\u001b[0m\n",
      "\u001b[1;31mValueError\u001b[0m: shapes (3,1) and (3,1) not aligned: 1 (dim 1) != 3 (dim 0)"
     ]
    }
   ],
   "source": [
    "m = np.array([[1], [2], [3]]) # 3 X 1 행렬\n",
    "n = np.array([[1], [2], [3]]) # 3 X 1 행렬\n",
    "\n",
    "l = np.dot(m, n) # 에러 발생\n",
    "\n",
    "print(l)\n",
    "print(l.shape)\n",
    "print(np.ndim(l))"
   ]
  },
  {
   "cell_type": "markdown",
   "id": "37e5705b",
   "metadata": {},
   "source": [
    "# 역행렬\n",
    "### - 어떤 A가 있을 때, 곱해서 단위행렬(E)를 만드는 행렬 B가 존재한다면, 행렬 B는 A의 역행렬"
   ]
  },
  {
   "cell_type": "code",
   "execution_count": 29,
   "id": "4dd0ab63",
   "metadata": {},
   "outputs": [
    {
     "name": "stdout",
     "output_type": "stream",
     "text": [
      "[[1 2]\n",
      " [3 4]]\n",
      "[[-2.   1. ]\n",
      " [ 1.5 -0.5]]\n",
      "[[1.00000000e+00 1.11022302e-16]\n",
      " [0.00000000e+00 1.00000000e+00]]\n"
     ]
    }
   ],
   "source": [
    "A = np.array([[1, 2], [3, 4]])\n",
    "print(A)\n",
    "B = np.linalg.inv(A) # np.linalg.inv(행렬): 역행렬 구하기\n",
    "print(B)\n",
    "\n",
    "print(np.dot(A, B))"
   ]
  },
  {
   "cell_type": "code",
   "execution_count": 31,
   "id": "e52e3965",
   "metadata": {},
   "outputs": [
    {
     "ename": "LinAlgError",
     "evalue": "Singular matrix",
     "output_type": "error",
     "traceback": [
      "\u001b[1;31m---------------------------------------------------------------------------\u001b[0m",
      "\u001b[1;31mLinAlgError\u001b[0m                               Traceback (most recent call last)",
      "\u001b[1;32m<ipython-input-31-8bb354206129>\u001b[0m in \u001b[0;36m<module>\u001b[1;34m\u001b[0m\n\u001b[0;32m      1\u001b[0m \u001b[0mB\u001b[0m \u001b[1;33m=\u001b[0m \u001b[0mnp\u001b[0m\u001b[1;33m.\u001b[0m\u001b[0marray\u001b[0m\u001b[1;33m(\u001b[0m\u001b[1;33m[\u001b[0m\u001b[1;33m[\u001b[0m\u001b[1;36m3\u001b[0m\u001b[1;33m,\u001b[0m \u001b[1;36m3\u001b[0m\u001b[1;33m]\u001b[0m\u001b[1;33m,\u001b[0m \u001b[1;33m[\u001b[0m\u001b[1;36m2\u001b[0m\u001b[1;33m,\u001b[0m \u001b[1;36m2\u001b[0m\u001b[1;33m]\u001b[0m\u001b[1;33m]\u001b[0m\u001b[1;33m)\u001b[0m \u001b[1;31m# B 행렬 자체가 역행렬이 없음\u001b[0m\u001b[1;33m\u001b[0m\u001b[1;33m\u001b[0m\u001b[0m\n\u001b[1;32m----> 2\u001b[1;33m \u001b[0mprint\u001b[0m\u001b[1;33m(\u001b[0m\u001b[0mnp\u001b[0m\u001b[1;33m.\u001b[0m\u001b[0mlinalg\u001b[0m\u001b[1;33m.\u001b[0m\u001b[0minv\u001b[0m\u001b[1;33m(\u001b[0m\u001b[0mB\u001b[0m\u001b[1;33m)\u001b[0m\u001b[1;33m)\u001b[0m \u001b[1;31m# 에러 발생\u001b[0m\u001b[1;33m\u001b[0m\u001b[1;33m\u001b[0m\u001b[0m\n\u001b[0m",
      "\u001b[1;32m<__array_function__ internals>\u001b[0m in \u001b[0;36minv\u001b[1;34m(*args, **kwargs)\u001b[0m\n",
      "\u001b[1;32m~\\.conda\\envs\\study\\lib\\site-packages\\numpy\\linalg\\linalg.py\u001b[0m in \u001b[0;36minv\u001b[1;34m(a)\u001b[0m\n\u001b[0;32m    544\u001b[0m     \u001b[0msignature\u001b[0m \u001b[1;33m=\u001b[0m \u001b[1;34m'D->D'\u001b[0m \u001b[1;32mif\u001b[0m \u001b[0misComplexType\u001b[0m\u001b[1;33m(\u001b[0m\u001b[0mt\u001b[0m\u001b[1;33m)\u001b[0m \u001b[1;32melse\u001b[0m \u001b[1;34m'd->d'\u001b[0m\u001b[1;33m\u001b[0m\u001b[1;33m\u001b[0m\u001b[0m\n\u001b[0;32m    545\u001b[0m     \u001b[0mextobj\u001b[0m \u001b[1;33m=\u001b[0m \u001b[0mget_linalg_error_extobj\u001b[0m\u001b[1;33m(\u001b[0m\u001b[0m_raise_linalgerror_singular\u001b[0m\u001b[1;33m)\u001b[0m\u001b[1;33m\u001b[0m\u001b[1;33m\u001b[0m\u001b[0m\n\u001b[1;32m--> 546\u001b[1;33m     \u001b[0mainv\u001b[0m \u001b[1;33m=\u001b[0m \u001b[0m_umath_linalg\u001b[0m\u001b[1;33m.\u001b[0m\u001b[0minv\u001b[0m\u001b[1;33m(\u001b[0m\u001b[0ma\u001b[0m\u001b[1;33m,\u001b[0m \u001b[0msignature\u001b[0m\u001b[1;33m=\u001b[0m\u001b[0msignature\u001b[0m\u001b[1;33m,\u001b[0m \u001b[0mextobj\u001b[0m\u001b[1;33m=\u001b[0m\u001b[0mextobj\u001b[0m\u001b[1;33m)\u001b[0m\u001b[1;33m\u001b[0m\u001b[1;33m\u001b[0m\u001b[0m\n\u001b[0m\u001b[0;32m    547\u001b[0m     \u001b[1;32mreturn\u001b[0m \u001b[0mwrap\u001b[0m\u001b[1;33m(\u001b[0m\u001b[0mainv\u001b[0m\u001b[1;33m.\u001b[0m\u001b[0mastype\u001b[0m\u001b[1;33m(\u001b[0m\u001b[0mresult_t\u001b[0m\u001b[1;33m,\u001b[0m \u001b[0mcopy\u001b[0m\u001b[1;33m=\u001b[0m\u001b[1;32mFalse\u001b[0m\u001b[1;33m)\u001b[0m\u001b[1;33m)\u001b[0m\u001b[1;33m\u001b[0m\u001b[1;33m\u001b[0m\u001b[0m\n\u001b[0;32m    548\u001b[0m \u001b[1;33m\u001b[0m\u001b[0m\n",
      "\u001b[1;32m~\\.conda\\envs\\study\\lib\\site-packages\\numpy\\linalg\\linalg.py\u001b[0m in \u001b[0;36m_raise_linalgerror_singular\u001b[1;34m(err, flag)\u001b[0m\n\u001b[0;32m     86\u001b[0m \u001b[1;33m\u001b[0m\u001b[0m\n\u001b[0;32m     87\u001b[0m \u001b[1;32mdef\u001b[0m \u001b[0m_raise_linalgerror_singular\u001b[0m\u001b[1;33m(\u001b[0m\u001b[0merr\u001b[0m\u001b[1;33m,\u001b[0m \u001b[0mflag\u001b[0m\u001b[1;33m)\u001b[0m\u001b[1;33m:\u001b[0m\u001b[1;33m\u001b[0m\u001b[1;33m\u001b[0m\u001b[0m\n\u001b[1;32m---> 88\u001b[1;33m     \u001b[1;32mraise\u001b[0m \u001b[0mLinAlgError\u001b[0m\u001b[1;33m(\u001b[0m\u001b[1;34m\"Singular matrix\"\u001b[0m\u001b[1;33m)\u001b[0m\u001b[1;33m\u001b[0m\u001b[1;33m\u001b[0m\u001b[0m\n\u001b[0m\u001b[0;32m     89\u001b[0m \u001b[1;33m\u001b[0m\u001b[0m\n\u001b[0;32m     90\u001b[0m \u001b[1;32mdef\u001b[0m \u001b[0m_raise_linalgerror_nonposdef\u001b[0m\u001b[1;33m(\u001b[0m\u001b[0merr\u001b[0m\u001b[1;33m,\u001b[0m \u001b[0mflag\u001b[0m\u001b[1;33m)\u001b[0m\u001b[1;33m:\u001b[0m\u001b[1;33m\u001b[0m\u001b[1;33m\u001b[0m\u001b[0m\n",
      "\u001b[1;31mLinAlgError\u001b[0m: Singular matrix"
     ]
    }
   ],
   "source": [
    "B = np.array([[3, 3], [2, 2]]) # B 행렬 자체가 역행렬이 없음\n",
    "print(np.linalg.inv(B)) # 에러 발생"
   ]
  },
  {
   "cell_type": "markdown",
   "id": "52b7eb4d",
   "metadata": {},
   "source": [
    "# 전치행렬\n",
    "### - 행과 열을 바꾼 배열의 형태"
   ]
  },
  {
   "cell_type": "code",
   "execution_count": 33,
   "id": "328a083e",
   "metadata": {},
   "outputs": [
    {
     "name": "stdout",
     "output_type": "stream",
     "text": [
      "A\n",
      " [[1 2 3]\n",
      " [4 5 6]]\n",
      "A.shape\n",
      " (2, 3)\n",
      "-------------\n",
      "A의 전치행렬\n",
      " [[1 4]\n",
      " [2 5]\n",
      " [3 6]]\n",
      "(A.T).shape\n",
      " (3, 2)\n",
      "[[1 2 3]\n",
      " [4 5 6]]\n"
     ]
    }
   ],
   "source": [
    "A = np.array([[1, 2, 3], [4, 5, 6]])\n",
    "print('A\\n', A)\n",
    "print('A.shape\\n', A.shape)\n",
    "print(\"-------------\")\n",
    "A_ = A.T # A.T: A의 전치행렬\n",
    "print('A의 전치행렬\\n', A_)\n",
    "print('(A.T).shape\\n', A_.shape)\n",
    "\n",
    "B = A_.T # 전치행렬을 다시 전치행렬\n",
    "print(B)"
   ]
  },
  {
   "cell_type": "markdown",
   "id": "d206f359",
   "metadata": {},
   "source": [
    "# 3차원 텐서\n",
    "### 보통 이미지를 나타낼 때 사용되는 텐서\n",
    "#### - (width, height, (color)channels)\n",
    "#### - 일반적으로 Numpy array로 표현\n",
    "\n",
    "### 시계열 데이터 또는 시퀀스(sequence) 데이터를 표현할 때도 사용\n",
    "#### - (samples, timesteps, features)\n",
    "#### - (예시) 주식 가격 데이터셋, 시간에 따른 질병 발병 건수"
   ]
  },
  {
   "cell_type": "code",
   "execution_count": 36,
   "id": "dfcee38f",
   "metadata": {},
   "outputs": [
    {
     "name": "stdout",
     "output_type": "stream",
     "text": [
      "X\n",
      " [[[ 5  3  2  1]\n",
      "  [ 5  5  3  1]\n",
      "  [ 6  1  2  3]]\n",
      "\n",
      " [[ 1  1  1  1]\n",
      "  [ 3  4  7  5]\n",
      "  [ 1  8  3  4]]\n",
      "\n",
      " [[10  9  3  9]\n",
      "  [ 5  4  3  2]\n",
      "  [ 7  6  3  4]]]\n",
      "\n",
      "X.shape: (3, 3, 4)\n",
      "X.ndim: 3\n"
     ]
    }
   ],
   "source": [
    "X = np.array([[[5, 3, 2, 1],\n",
    "              [5, 5, 3, 1],\n",
    "              [6, 1, 2, 3]],\n",
    "             [[1, 1, 1, 1],\n",
    "             [3, 4, 7, 5],\n",
    "             [1, 8, 3, 4]],\n",
    "             [[10, 9, 3, 9],\n",
    "             [5, 4, 3, 2],\n",
    "             [7, 6, 3, 4]]]) # 3 X 3 X 4\n",
    "\n",
    "print('X\\n', X, end = '\\n\\n')\n",
    "print('X.shape:', X.shape)\n",
    "print('X.ndim:', X.ndim)"
   ]
  },
  {
   "cell_type": "code",
   "execution_count": 39,
   "id": "608db381",
   "metadata": {},
   "outputs": [
    {
     "name": "stdout",
     "output_type": "stream",
     "text": [
      "행렬 B\n",
      " [[[2 3 4]\n",
      "  [2 3 4]]\n",
      "\n",
      " [[1 1 1]\n",
      "  [1 1 1]]]\n",
      "\n",
      "B.shape\n",
      " (2, 2, 3)\n",
      "\n",
      "B.ndim\n",
      " 3\n",
      "\n",
      "B의 전치행렬\n",
      " [[[2 1]\n",
      "  [2 1]]\n",
      "\n",
      " [[3 1]\n",
      "  [3 1]]\n",
      "\n",
      " [[4 1]\n",
      "  [4 1]]]\n"
     ]
    }
   ],
   "source": [
    "B = np.array([[[2, 3, 4], [2, 3, 4]],\n",
    "              [[1, 1, 1], [1, 1, 1]]])\n",
    "\n",
    "print('행렬 B\\n', B, end = '\\n\\n')\n",
    "print('B.shape\\n', B.shape, end = '\\n\\n')\n",
    "print('B.ndim\\n', B.ndim, end = '\\n\\n')\n",
    "print('B의 전치행렬\\n', B.T) # 3차원 텐서도 transpose 가능"
   ]
  },
  {
   "cell_type": "code",
   "execution_count": 2,
   "id": "f5038422",
   "metadata": {},
   "outputs": [],
   "source": [
    "from IPython.display import Image"
   ]
  },
  {
   "cell_type": "markdown",
   "id": "cc0f24e7",
   "metadata": {},
   "source": [
    "# 3차원 텐서 활용 예시(이미지)\n",
    "### MNIST Dataset\n",
    "#### - 28x28 사이즈의 gray scale 이미지들로 구성\n",
    "![MNIST](image/MNIST.png)\n",
    "#### - gray scale: 0~255의 값을 통해 밝기를 표현\n",
    "#### - 0으로 갈수록 어두워지고, 255로 갈수록 밝아짐\n",
    "![grayscale](image/grayscale.jpeg)"
   ]
  },
  {
   "cell_type": "code",
   "execution_count": 9,
   "id": "2b5a6b21",
   "metadata": {
    "scrolled": true
   },
   "outputs": [
    {
     "ename": "ImportError",
     "evalue": "Keras requires TensorFlow 2.2 or higher. Install TensorFlow via `pip install tensorflow`",
     "output_type": "error",
     "traceback": [
      "\u001b[1;31m---------------------------------------------------------------------------\u001b[0m",
      "\u001b[1;31mImportError\u001b[0m                               Traceback (most recent call last)",
      "\u001b[1;32m~\\.conda\\envs\\study\\lib\\site-packages\\tensorflow\\python\\pywrap_tensorflow.py\u001b[0m in \u001b[0;36m<module>\u001b[1;34m\u001b[0m\n\u001b[0;32m     63\u001b[0m   \u001b[1;32mtry\u001b[0m\u001b[1;33m:\u001b[0m\u001b[1;33m\u001b[0m\u001b[1;33m\u001b[0m\u001b[0m\n\u001b[1;32m---> 64\u001b[1;33m     \u001b[1;32mfrom\u001b[0m \u001b[0mtensorflow\u001b[0m\u001b[1;33m.\u001b[0m\u001b[0mpython\u001b[0m\u001b[1;33m.\u001b[0m\u001b[0m_pywrap_tensorflow_internal\u001b[0m \u001b[1;32mimport\u001b[0m \u001b[1;33m*\u001b[0m\u001b[1;33m\u001b[0m\u001b[1;33m\u001b[0m\u001b[0m\n\u001b[0m\u001b[0;32m     65\u001b[0m   \u001b[1;31m# This try catch logic is because there is no bazel equivalent for py_extension.\u001b[0m\u001b[1;33m\u001b[0m\u001b[1;33m\u001b[0m\u001b[1;33m\u001b[0m\u001b[0m\n",
      "\u001b[1;31mImportError\u001b[0m: DLL load failed while importing _pywrap_tensorflow_internal: DLL 초기화 루틴을 실행할 수 없습니다.",
      "\nDuring handling of the above exception, another exception occurred:\n",
      "\u001b[1;31mImportError\u001b[0m                               Traceback (most recent call last)",
      "\u001b[1;32m~\\.conda\\envs\\study\\lib\\site-packages\\keras\\__init__.py\u001b[0m in \u001b[0;36m<module>\u001b[1;34m\u001b[0m\n\u001b[0;32m      2\u001b[0m \u001b[1;32mtry\u001b[0m\u001b[1;33m:\u001b[0m\u001b[1;33m\u001b[0m\u001b[1;33m\u001b[0m\u001b[0m\n\u001b[1;32m----> 3\u001b[1;33m     \u001b[1;32mfrom\u001b[0m \u001b[0mtensorflow\u001b[0m\u001b[1;33m.\u001b[0m\u001b[0mkeras\u001b[0m\u001b[1;33m.\u001b[0m\u001b[0mlayers\u001b[0m\u001b[1;33m.\u001b[0m\u001b[0mexperimental\u001b[0m\u001b[1;33m.\u001b[0m\u001b[0mpreprocessing\u001b[0m \u001b[1;32mimport\u001b[0m \u001b[0mRandomRotation\u001b[0m\u001b[1;33m\u001b[0m\u001b[1;33m\u001b[0m\u001b[0m\n\u001b[0m\u001b[0;32m      4\u001b[0m \u001b[1;32mexcept\u001b[0m \u001b[0mImportError\u001b[0m\u001b[1;33m:\u001b[0m\u001b[1;33m\u001b[0m\u001b[1;33m\u001b[0m\u001b[0m\n",
      "\u001b[1;32m~\\.conda\\envs\\study\\lib\\site-packages\\tensorflow\\__init__.py\u001b[0m in \u001b[0;36m<module>\u001b[1;34m\u001b[0m\n\u001b[0;32m     40\u001b[0m \u001b[1;33m\u001b[0m\u001b[0m\n\u001b[1;32m---> 41\u001b[1;33m \u001b[1;32mfrom\u001b[0m \u001b[0mtensorflow\u001b[0m\u001b[1;33m.\u001b[0m\u001b[0mpython\u001b[0m\u001b[1;33m.\u001b[0m\u001b[0mtools\u001b[0m \u001b[1;32mimport\u001b[0m \u001b[0mmodule_util\u001b[0m \u001b[1;32mas\u001b[0m \u001b[0m_module_util\u001b[0m\u001b[1;33m\u001b[0m\u001b[1;33m\u001b[0m\u001b[0m\n\u001b[0m\u001b[0;32m     42\u001b[0m \u001b[1;32mfrom\u001b[0m \u001b[0mtensorflow\u001b[0m\u001b[1;33m.\u001b[0m\u001b[0mpython\u001b[0m\u001b[1;33m.\u001b[0m\u001b[0mutil\u001b[0m\u001b[1;33m.\u001b[0m\u001b[0mlazy_loader\u001b[0m \u001b[1;32mimport\u001b[0m \u001b[0mLazyLoader\u001b[0m \u001b[1;32mas\u001b[0m \u001b[0m_LazyLoader\u001b[0m\u001b[1;33m\u001b[0m\u001b[1;33m\u001b[0m\u001b[0m\n",
      "\u001b[1;32m~\\.conda\\envs\\study\\lib\\site-packages\\tensorflow\\python\\__init__.py\u001b[0m in \u001b[0;36m<module>\u001b[1;34m\u001b[0m\n\u001b[0;32m     38\u001b[0m \u001b[1;31m# pylint: disable=wildcard-import,g-bad-import-order,g-import-not-at-top\u001b[0m\u001b[1;33m\u001b[0m\u001b[1;33m\u001b[0m\u001b[1;33m\u001b[0m\u001b[0m\n\u001b[1;32m---> 39\u001b[1;33m \u001b[1;32mfrom\u001b[0m \u001b[0mtensorflow\u001b[0m\u001b[1;33m.\u001b[0m\u001b[0mpython\u001b[0m \u001b[1;32mimport\u001b[0m \u001b[0mpywrap_tensorflow\u001b[0m \u001b[1;32mas\u001b[0m \u001b[0m_pywrap_tensorflow\u001b[0m\u001b[1;33m\u001b[0m\u001b[1;33m\u001b[0m\u001b[0m\n\u001b[0m\u001b[0;32m     40\u001b[0m \u001b[1;33m\u001b[0m\u001b[0m\n",
      "\u001b[1;32m~\\.conda\\envs\\study\\lib\\site-packages\\tensorflow\\python\\pywrap_tensorflow.py\u001b[0m in \u001b[0;36m<module>\u001b[1;34m\u001b[0m\n\u001b[0;32m     82\u001b[0m above this error message when asking for help.\"\"\" % traceback.format_exc()\n\u001b[1;32m---> 83\u001b[1;33m   \u001b[1;32mraise\u001b[0m \u001b[0mImportError\u001b[0m\u001b[1;33m(\u001b[0m\u001b[0mmsg\u001b[0m\u001b[1;33m)\u001b[0m\u001b[1;33m\u001b[0m\u001b[1;33m\u001b[0m\u001b[0m\n\u001b[0m\u001b[0;32m     84\u001b[0m \u001b[1;33m\u001b[0m\u001b[0m\n",
      "\u001b[1;31mImportError\u001b[0m: Traceback (most recent call last):\n  File \"C:\\Users\\CJW\\.conda\\envs\\study\\lib\\site-packages\\tensorflow\\python\\pywrap_tensorflow.py\", line 64, in <module>\n    from tensorflow.python._pywrap_tensorflow_internal import *\nImportError: DLL load failed while importing _pywrap_tensorflow_internal: DLL 초기화 루틴을 실행할 수 없습니다.\n\n\nFailed to load the native TensorFlow runtime.\n\nSee https://www.tensorflow.org/install/errors\n\nfor some common reasons and solutions.  Include the entire stack trace\nabove this error message when asking for help.",
      "\nDuring handling of the above exception, another exception occurred:\n",
      "\u001b[1;31mImportError\u001b[0m                               Traceback (most recent call last)",
      "\u001b[1;32m<ipython-input-9-7de81e4474ff>\u001b[0m in \u001b[0;36m<module>\u001b[1;34m\u001b[0m\n\u001b[1;32m----> 1\u001b[1;33m \u001b[1;32mfrom\u001b[0m \u001b[0mkeras\u001b[0m\u001b[1;33m.\u001b[0m\u001b[0mdatasets\u001b[0m \u001b[1;32mimport\u001b[0m \u001b[0mmnist\u001b[0m\u001b[1;33m\u001b[0m\u001b[1;33m\u001b[0m\u001b[0m\n\u001b[0m\u001b[0;32m      2\u001b[0m \u001b[1;33m\u001b[0m\u001b[0m\n\u001b[0;32m      3\u001b[0m \u001b[1;33m(\u001b[0m\u001b[0mtrain_images\u001b[0m\u001b[1;33m,\u001b[0m \u001b[0mtrain_labels\u001b[0m\u001b[1;33m)\u001b[0m\u001b[1;33m,\u001b[0m \u001b[1;33m(\u001b[0m\u001b[0mtest_images\u001b[0m\u001b[1;33m,\u001b[0m \u001b[0mtest_labels\u001b[0m\u001b[1;33m)\u001b[0m \u001b[1;33m=\u001b[0m \u001b[0mmnist\u001b[0m\u001b[1;33m.\u001b[0m\u001b[0mload_data\u001b[0m\u001b[1;33m(\u001b[0m\u001b[1;33m)\u001b[0m\u001b[1;33m\u001b[0m\u001b[1;33m\u001b[0m\u001b[0m\n",
      "\u001b[1;32m~\\.conda\\envs\\study\\lib\\site-packages\\keras\\__init__.py\u001b[0m in \u001b[0;36m<module>\u001b[1;34m\u001b[0m\n\u001b[0;32m      3\u001b[0m     \u001b[1;32mfrom\u001b[0m \u001b[0mtensorflow\u001b[0m\u001b[1;33m.\u001b[0m\u001b[0mkeras\u001b[0m\u001b[1;33m.\u001b[0m\u001b[0mlayers\u001b[0m\u001b[1;33m.\u001b[0m\u001b[0mexperimental\u001b[0m\u001b[1;33m.\u001b[0m\u001b[0mpreprocessing\u001b[0m \u001b[1;32mimport\u001b[0m \u001b[0mRandomRotation\u001b[0m\u001b[1;33m\u001b[0m\u001b[1;33m\u001b[0m\u001b[0m\n\u001b[0;32m      4\u001b[0m \u001b[1;32mexcept\u001b[0m \u001b[0mImportError\u001b[0m\u001b[1;33m:\u001b[0m\u001b[1;33m\u001b[0m\u001b[1;33m\u001b[0m\u001b[0m\n\u001b[1;32m----> 5\u001b[1;33m     raise ImportError(\n\u001b[0m\u001b[0;32m      6\u001b[0m         \u001b[1;34m'Keras requires TensorFlow 2.2 or higher. '\u001b[0m\u001b[1;33m\u001b[0m\u001b[1;33m\u001b[0m\u001b[0m\n\u001b[0;32m      7\u001b[0m         'Install TensorFlow via `pip install tensorflow`')\n",
      "\u001b[1;31mImportError\u001b[0m: Keras requires TensorFlow 2.2 or higher. Install TensorFlow via `pip install tensorflow`"
     ]
    }
   ],
   "source": [
    "from keras.datasets import mnist\n",
    "\n",
    "(train_images, train_labels), (test_images, test_labels) = mnist.load_data()"
   ]
  },
  {
   "cell_type": "code",
   "execution_count": 11,
   "id": "9a61dcaa",
   "metadata": {},
   "outputs": [
    {
     "ename": "NameError",
     "evalue": "name 'train_images' is not defined",
     "output_type": "error",
     "traceback": [
      "\u001b[1;31m---------------------------------------------------------------------------\u001b[0m",
      "\u001b[1;31mNameError\u001b[0m                                 Traceback (most recent call last)",
      "\u001b[1;32m<ipython-input-11-b4e33cce0cb5>\u001b[0m in \u001b[0;36m<module>\u001b[1;34m\u001b[0m\n\u001b[1;32m----> 1\u001b[1;33m \u001b[0mprint\u001b[0m\u001b[1;33m(\u001b[0m\u001b[0mtrain_images\u001b[0m\u001b[1;33m.\u001b[0m\u001b[0mndim\u001b[0m\u001b[1;33m)\u001b[0m\u001b[1;33m\u001b[0m\u001b[1;33m\u001b[0m\u001b[0m\n\u001b[0m",
      "\u001b[1;31mNameError\u001b[0m: name 'train_images' is not defined"
     ]
    }
   ],
   "source": [
    "print(train_images.ndim)    "
   ]
  },
  {
   "cell_type": "code",
   "execution_count": null,
   "id": "1ac88421",
   "metadata": {},
   "outputs": [],
   "source": [
    "print(train_images.shape)"
   ]
  },
  {
   "cell_type": "code",
   "execution_count": null,
   "id": "a89933f0",
   "metadata": {},
   "outputs": [],
   "source": [
    "temp_image = train_images[3]\n",
    "plt.imshow(temp_image, cmap = 'gray')\n",
    "plt.show()"
   ]
  },
  {
   "cell_type": "markdown",
   "id": "84349bb0",
   "metadata": {},
   "source": [
    "# 브로드캐스팅(broadcasting)\n",
    "### - 넘파이에서 다른 형상(shape)끼리 계산 가능"
   ]
  },
  {
   "cell_type": "code",
   "execution_count": 13,
   "id": "6dbe67eb",
   "metadata": {},
   "outputs": [
    {
     "name": "stdout",
     "output_type": "stream",
     "text": [
      "[100 200 300]\n",
      "[100 200 300]\n"
     ]
    }
   ],
   "source": [
    "a = np.array(10)\n",
    "b = np.array([10, 20, 30])\n",
    "print(np.dot(a, b))\n",
    "print(a * b)"
   ]
  },
  {
   "cell_type": "code",
   "execution_count": 15,
   "id": "18d648e6",
   "metadata": {},
   "outputs": [
    {
     "name": "stdout",
     "output_type": "stream",
     "text": [
      "행렬 A\n",
      " [[1 2]\n",
      " [3 4]]\n",
      "행렬 B\n",
      " [10 20]\n",
      "A * B\n",
      " [[10 40]\n",
      " [30 80]]\n"
     ]
    }
   ],
   "source": [
    "A = np.array([[1, 2], [3, 4]])\n",
    "B = np.array([10, 20])\n",
    "print('행렬 A\\n', A)\n",
    "print('행렬 B\\n', B)\n",
    "print('A * B\\n', A * B) # broadcasting 된 결과 출력"
   ]
  },
  {
   "cell_type": "code",
   "execution_count": 16,
   "id": "1ab4a7d5",
   "metadata": {},
   "outputs": [
    {
     "name": "stdout",
     "output_type": "stream",
     "text": [
      "행렬 A\n",
      " [[[1 1 1]\n",
      "  [2 2 2]]\n",
      "\n",
      " [[3 3 3]\n",
      "  [4 4 4]]]\n",
      "A.shape: (2, 2, 3)\n",
      "행렬 B\n",
      " [[ 1 10 10]]\n",
      "B.shape: (1, 3)\n",
      "A * B\n",
      " [[[ 1 10 10]\n",
      "  [ 2 20 20]]\n",
      "\n",
      " [[ 3 30 30]\n",
      "  [ 4 40 40]]]\n"
     ]
    }
   ],
   "source": [
    "A = np.array([[[1, 1, 1],\n",
    "             [2, 2, 2]],\n",
    "              [[3, 3, 3],\n",
    "              [4, 4, 4]]])\n",
    "B = np.array([[1, 10, 10]])\n",
    "\n",
    "print('행렬 A\\n', A)\n",
    "print('A.shape:', A.shape)\n",
    "print('행렬 B\\n', B)\n",
    "print('B.shape:', B.shape)\n",
    "print('A * B\\n', A * B)"
   ]
  },
  {
   "cell_type": "code",
   "execution_count": 12,
   "id": "b988ddb9",
   "metadata": {},
   "outputs": [
    {
     "ename": "ValueError",
     "evalue": "operands could not be broadcast together with shapes (2,3) (2,) ",
     "output_type": "error",
     "traceback": [
      "\u001b[1;31m---------------------------------------------------------------------------\u001b[0m",
      "\u001b[1;31mValueError\u001b[0m                                Traceback (most recent call last)",
      "\u001b[1;32m<ipython-input-12-8894aef8b777>\u001b[0m in \u001b[0;36m<module>\u001b[1;34m\u001b[0m\n\u001b[0;32m      2\u001b[0m \u001b[0mB\u001b[0m \u001b[1;33m=\u001b[0m \u001b[0mnp\u001b[0m\u001b[1;33m.\u001b[0m\u001b[0marray\u001b[0m\u001b[1;33m(\u001b[0m\u001b[1;33m[\u001b[0m\u001b[1;36m10\u001b[0m\u001b[1;33m,\u001b[0m \u001b[1;36m10\u001b[0m\u001b[1;33m]\u001b[0m\u001b[1;33m)\u001b[0m \u001b[1;31m# 2\u001b[0m\u001b[1;33m\u001b[0m\u001b[1;33m\u001b[0m\u001b[0m\n\u001b[0;32m      3\u001b[0m \u001b[1;31m# Broadcasting 안되는 예시\u001b[0m\u001b[1;33m\u001b[0m\u001b[1;33m\u001b[0m\u001b[1;33m\u001b[0m\u001b[0m\n\u001b[1;32m----> 4\u001b[1;33m \u001b[0mprint\u001b[0m\u001b[1;33m(\u001b[0m\u001b[0mA\u001b[0m \u001b[1;33m*\u001b[0m \u001b[0mB\u001b[0m\u001b[1;33m)\u001b[0m\u001b[1;33m\u001b[0m\u001b[1;33m\u001b[0m\u001b[0m\n\u001b[0m",
      "\u001b[1;31mValueError\u001b[0m: operands could not be broadcast together with shapes (2,3) (2,) "
     ]
    }
   ],
   "source": [
    "A = np.array([[1, 2, 3], [4, 5, 6]]) # 2 X 3\n",
    "B = np.array([10, 10]) # 2\n",
    "# Broadcasting 안되는 예시\n",
    "print(A * B)"
   ]
  },
  {
   "cell_type": "markdown",
   "id": "19b8d336",
   "metadata": {},
   "source": [
    "# 5차원 텐서\n",
    "### - Color Image Datasets(4차원)\n",
    "#### - (samples, height, width, channels) (Keras, Tensorflow)\n",
    "#### - (samples, chaneels, height, width) (Pytorch)\n",
    "\n",
    "### 동영상 (5차원)\n",
    "#### 1. (samples, frames, height, width, channels)\n",
    "#### 2. (samples, frames, channels, height, width)\n",
    "#### - 예시 1) (4, 300, 1920, 1080, 3)\n",
    "####            1920 X 1080 사이즈 3채널의 300프레임 수를 가진 배치가 4개"
   ]
  },
  {
   "cell_type": "markdown",
   "id": "7e5c4199",
   "metadata": {},
   "source": [
    "# 텐서 크기 변환\n",
    "### - reshape로 텐서의 크기 변환 가능\n",
    "### - 변환 전의 원소의 개수와 변환 이후의 텐서의 개수가 같아야 함"
   ]
  },
  {
   "cell_type": "code",
   "execution_count": 14,
   "id": "2a6624a0",
   "metadata": {},
   "outputs": [
    {
     "name": "stdout",
     "output_type": "stream",
     "text": [
      "행렬 A\n",
      " [[1 2 3]\n",
      " [4 5 6]]\n",
      "A.shape: (2, 3)\n",
      "-------------\n",
      "행렬 A\n",
      " [1 2 3 4 5 6]\n",
      "A.shape: (6,)\n"
     ]
    }
   ],
   "source": [
    "A = np.array([[1, 2, 3], [4, 5, 6]])\n",
    "print('행렬 A\\n', A)\n",
    "print('A.shape:', A.shape)\n",
    "print('-------------')\n",
    "\n",
    "A = A.reshape(6)\n",
    "print('행렬 A\\n', A)\n",
    "print('A.shape:', A.shape)\n",
    "\n",
    "## 2차원을 1차원으로 변환"
   ]
  },
  {
   "cell_type": "code",
   "execution_count": 16,
   "id": "22f4adf0",
   "metadata": {},
   "outputs": [
    {
     "name": "stdout",
     "output_type": "stream",
     "text": [
      "행렬 B\n",
      " [[[2 3 4]\n",
      "  [2 3 4]]\n",
      "\n",
      " [[1 1 1]\n",
      "  [1 1 1]]]\n",
      "B.shape: (2, 2, 3)\n",
      "----------------\n",
      "행렬 B\n",
      " [[2 3 4 2]\n",
      " [3 4 1 1]\n",
      " [1 1 1 1]]\n",
      "B.shape: (3, 4)\n"
     ]
    }
   ],
   "source": [
    "B = np.array([[[2, 3, 4], [2, 3, 4]],\n",
    "            [[1, 1, 1], [1, 1, 1]]])\n",
    "\n",
    "print('행렬 B\\n', B)\n",
    "print('B.shape:', B.shape)\n",
    "print(\"----------------\")\n",
    "\n",
    "B = B.reshape(3, 4)\n",
    "print('행렬 B\\n', B)\n",
    "print('B.shape:', B.shape)\n",
    "# 3차원 텐서를 2차원 텐서로 변환"
   ]
  },
  {
   "cell_type": "markdown",
   "id": "fd3b2ace",
   "metadata": {},
   "source": [
    "### -1 을 통해 자동으로 형상을 지정 가능\n",
    "### 원소의 갯수에 맞게 넘파이가 자동으로 형상을 지정\n",
    "\n",
    "### ex)\n",
    "### (2, 2, 3) -> (3, -1) (O) (3, 4) 로 자동 지정\n",
    "### (2, 2, 3) -> (2, 1, 6) (O)\n",
    "### (2, 2, 3) -> (2, -1, -1) (X)\n",
    "### (2, 2, 3) -> (2, 5, -1) (X)"
   ]
  },
  {
   "cell_type": "code",
   "execution_count": 18,
   "id": "15752024",
   "metadata": {},
   "outputs": [
    {
     "name": "stdout",
     "output_type": "stream",
     "text": [
      "행렬 B\n",
      " [[[2 3 4]\n",
      "  [2 3 4]]\n",
      "\n",
      " [[1 1 1]\n",
      "  [1 1 1]]]\n",
      "B.shape: (2, 2, 3)\n",
      "----------------\n",
      "행렬 B\n",
      " [[2 3 4]\n",
      " [2 3 4]\n",
      " [1 1 1]\n",
      " [1 1 1]]\n",
      "B.shape: (4, 3)\n"
     ]
    }
   ],
   "source": [
    "B = np.array([[[2, 3, 4], [2, 3, 4]],\n",
    "            [[1, 1, 1], [1, 1, 1]]])\n",
    "\n",
    "print('행렬 B\\n', B)\n",
    "print('B.shape:', B.shape)\n",
    "print(\"----------------\")\n",
    "\n",
    "B = B.reshape(4, -1)\n",
    "print('행렬 B\\n', B)\n",
    "print('B.shape:', B.shape)"
   ]
  }
 ],
 "metadata": {
  "kernelspec": {
   "display_name": "Python 3",
   "language": "python",
   "name": "python3"
  },
  "language_info": {
   "codemirror_mode": {
    "name": "ipython",
    "version": 3
   },
   "file_extension": ".py",
   "mimetype": "text/x-python",
   "name": "python",
   "nbconvert_exporter": "python",
   "pygments_lexer": "ipython3",
   "version": "3.8.8"
  }
 },
 "nbformat": 4,
 "nbformat_minor": 5
}
